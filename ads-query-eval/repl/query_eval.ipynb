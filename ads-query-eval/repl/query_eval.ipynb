{
 "cells": [
  {
   "cell_type": "code",
   "execution_count": 53,
   "id": "47c1a357-db31-420c-b224-6dde98071111",
   "metadata": {},
   "outputs": [],
   "source": [
    "import os\n",
    "from urllib.parse import urlencode\n",
    "\n",
    "import requests\n",
    "\n",
    "url = \"https://ui.adsabs.harvard.edu/v1/search/query\"\n",
    "\n",
    "headers = {\n",
    "    \"Accept\": \"application/json\",\n",
    "    \"Content-type\": \"application/json\",\n",
    "    \"Authorization\": f\"Bearer {os.getenv('ADS_API_TOKEN')}\"\n",
    "}\n",
    "\n",
    "def params_for(q=\"\"):\n",
    "    return {\n",
    "        \"__clearBigQuery\": \"true\",\n",
    "        \"fl\": (\n",
    "            \"identifier,[citations],reference,abstract,author,book_author,\"\n",
    "            \"orcid_pub,orcid_user,orcid_other,bibcode,citation_count,\"\n",
    "            \"comment,doi,id,keyword,page,property,pub,pub_raw,pubdate,pubnote,\"\n",
    "            \"read_count,title,volume,links_data,esources,data,\"\n",
    "            \"citation_count_norm,email,doctype\"\n",
    "        ),\n",
    "        \"q\": q,\n",
    "        \"hl\": \"true\",\n",
    "        \"hl.fl\": \"title,abstract,body,ack,*\",\n",
    "        \"hl.maxAnalyzedChars\": \"150000\",\n",
    "        \"hl.requireFieldMatch\": \"true\",\n",
    "        \"hl.usePhraseHighlighter\": \"true\",\n",
    "        \"rows\": \"25\",\n",
    "        \"sort\": \"date desc, bibcode desc\",\n",
    "        \"start\": \"0\"\n",
    "    }\n",
    "\n",
    "def fetch_first_page(q):\n",
    "    encoded_query = urlencode(params_for(q))\n",
    "    response = requests.get(f\"{url}?{encoded_query}\", headers=headers)\n",
    "    if response.status_code != 200:\n",
    "            raise Exception(response.text)\n",
    "    return response.json()\n",
    "    \n",
    "\n",
    "def fetch_first_n(q, n=1000):\n",
    "    responses = []\n",
    "    n_fetched_total = 0\n",
    "    start = 0\n",
    "    rows = 200 if n > 200 else n\n",
    "    while True:\n",
    "        params = params_for(q)\n",
    "        params[\"rows\"] = str(rows)\n",
    "        params[\"start\"] = str(start)\n",
    "        response = requests.get(f\"{url}?{urlencode(params)}\", headers=headers)\n",
    "        if response.status_code != 200:\n",
    "            raise Exception(response.text)\n",
    "        rv = response.json()\n",
    "        responses.append(rv)\n",
    "        n_fetched = len(rv[\"response\"][\"docs\"])\n",
    "        n_fetched_total += n_fetched\n",
    "        if n_fetched_total >= n or n_fetched < rows:\n",
    "            print(n_fetched_total, n, n_fetched, rows)\n",
    "            break\n",
    "        else:\n",
    "            start += rows\n",
    "            print(f\"q: {q} start: {start}...\")\n",
    "    return responses"
   ]
  },
  {
   "cell_type": "code",
   "execution_count": 49,
   "id": "d5ecd8c3-6d89-4651-857a-cd43a06ed72b",
   "metadata": {},
   "outputs": [],
   "source": [
    "queries = (\n",
    "    'full:\"coronal mass ejection\"',\n",
    "    'full:\"solar wind\"',\n",
    "    'full:\"ionospheric_conductivity\"',\n",
    "    'full:\"space weather\"',\n",
    "    'full:\"geomagnetically induced current\"',\n",
    "    'full:(\"solar wind\" AND magnetosphere AND coupling)',\n",
    "    'full:(magnetosphere AND ionosphere AND coupling)',\n",
    "    'full:(\"interplanetary magnetic field\" AND reconnection)',\n",
    "    'full:\"substorm\"',\n",
    "    'full:\"particle acceleration\"',\n",
    "    #'similar(bibcode:2015AdSpR..55.2745S)',\n",
    "    #'useful(topn(200,similar(1958ApJ...128..664P)))',\n",
    "    #'useful(topn(200,similar(1961PhRvL...6...47D)))',\n",
    "    #'trending(full:\"space weather\")'\n",
    ")"
   ]
  },
  {
   "cell_type": "code",
   "execution_count": null,
   "id": "2bd244ba-9311-4dd4-88ec-d6a216464cec",
   "metadata": {},
   "outputs": [],
   "source": [
    "responses = []"
   ]
  },
  {
   "cell_type": "code",
   "execution_count": 59,
   "id": "0911e165-d31c-4730-915c-076c1adaae9d",
   "metadata": {
    "tags": []
   },
   "outputs": [
    {
     "name": "stderr",
     "output_type": "stream",
     "text": [
      "  0%|          | 0/9 [00:00<?, ?it/s]"
     ]
    },
    {
     "name": "stdout",
     "output_type": "stream",
     "text": [
      "q: full:\"solar wind\" start: 200...\n",
      "q: full:\"solar wind\" start: 400...\n",
      "q: full:\"solar wind\" start: 600...\n",
      "q: full:\"solar wind\" start: 800...\n"
     ]
    },
    {
     "name": "stderr",
     "output_type": "stream",
     "text": [
      " 11%|█         | 1/9 [01:20<10:47, 80.89s/it]"
     ]
    },
    {
     "name": "stdout",
     "output_type": "stream",
     "text": [
      "1000 1000 200 200\n",
      "q: full:\"ionospheric_conductivity\" start: 200...\n",
      "q: full:\"ionospheric_conductivity\" start: 400...\n",
      "q: full:\"ionospheric_conductivity\" start: 600...\n",
      "q: full:\"ionospheric_conductivity\" start: 800...\n"
     ]
    },
    {
     "name": "stderr",
     "output_type": "stream",
     "text": [
      " 22%|██▏       | 2/9 [02:45<09:43, 83.30s/it]"
     ]
    },
    {
     "name": "stdout",
     "output_type": "stream",
     "text": [
      "1000 1000 200 200\n",
      "q: full:\"space weather\" start: 200...\n",
      "q: full:\"space weather\" start: 400...\n",
      "q: full:\"space weather\" start: 600...\n",
      "q: full:\"space weather\" start: 800...\n"
     ]
    },
    {
     "name": "stderr",
     "output_type": "stream",
     "text": [
      " 33%|███▎      | 3/9 [04:06<08:12, 82.16s/it]"
     ]
    },
    {
     "name": "stdout",
     "output_type": "stream",
     "text": [
      "1000 1000 200 200\n",
      "q: full:\"geomagnetically induced current\" start: 200...\n",
      "q: full:\"geomagnetically induced current\" start: 400...\n",
      "q: full:\"geomagnetically induced current\" start: 600...\n",
      "q: full:\"geomagnetically induced current\" start: 800...\n"
     ]
    },
    {
     "name": "stderr",
     "output_type": "stream",
     "text": [
      " 44%|████▍     | 4/9 [04:59<05:52, 70.54s/it]"
     ]
    },
    {
     "name": "stdout",
     "output_type": "stream",
     "text": [
      "1000 1000 200 200\n",
      "q: full:(\"solar wind\" AND magnetosphere AND coupling) start: 200...\n",
      "q: full:(\"solar wind\" AND magnetosphere AND coupling) start: 400...\n",
      "q: full:(\"solar wind\" AND magnetosphere AND coupling) start: 600...\n",
      "q: full:(\"solar wind\" AND magnetosphere AND coupling) start: 800...\n"
     ]
    },
    {
     "name": "stderr",
     "output_type": "stream",
     "text": [
      " 56%|█████▌    | 5/9 [06:35<05:18, 79.63s/it]"
     ]
    },
    {
     "name": "stdout",
     "output_type": "stream",
     "text": [
      "1000 1000 200 200\n",
      "q: full:(magnetosphere AND ionosphere AND coupling) start: 200...\n",
      "q: full:(magnetosphere AND ionosphere AND coupling) start: 400...\n",
      "q: full:(magnetosphere AND ionosphere AND coupling) start: 600...\n",
      "q: full:(magnetosphere AND ionosphere AND coupling) start: 800...\n"
     ]
    },
    {
     "name": "stderr",
     "output_type": "stream",
     "text": [
      " 67%|██████▋   | 6/9 [07:58<04:02, 80.83s/it]"
     ]
    },
    {
     "name": "stdout",
     "output_type": "stream",
     "text": [
      "1000 1000 200 200\n",
      "q: full:(\"interplanetary magnetic field\" AND reconnection) start: 200...\n",
      "q: full:(\"interplanetary magnetic field\" AND reconnection) start: 400...\n",
      "q: full:(\"interplanetary magnetic field\" AND reconnection) start: 600...\n",
      "q: full:(\"interplanetary magnetic field\" AND reconnection) start: 800...\n"
     ]
    },
    {
     "name": "stderr",
     "output_type": "stream",
     "text": [
      " 78%|███████▊  | 7/9 [10:04<03:11, 95.60s/it]"
     ]
    },
    {
     "name": "stdout",
     "output_type": "stream",
     "text": [
      "1000 1000 200 200\n",
      "q: full:\"substorm\" start: 200...\n",
      "q: full:\"substorm\" start: 400...\n",
      "q: full:\"substorm\" start: 600...\n",
      "q: full:\"substorm\" start: 800...\n"
     ]
    },
    {
     "name": "stderr",
     "output_type": "stream",
     "text": [
      " 89%|████████▉ | 8/9 [11:25<01:30, 90.95s/it]"
     ]
    },
    {
     "name": "stdout",
     "output_type": "stream",
     "text": [
      "1000 1000 200 200\n",
      "q: full:\"particle acceleration\" start: 200...\n",
      "q: full:\"particle acceleration\" start: 400...\n",
      "q: full:\"particle acceleration\" start: 600...\n",
      "q: full:\"particle acceleration\" start: 800...\n"
     ]
    },
    {
     "name": "stderr",
     "output_type": "stream",
     "text": [
      "100%|██████████| 9/9 [12:50<00:00, 85.65s/it]"
     ]
    },
    {
     "name": "stdout",
     "output_type": "stream",
     "text": [
      "1000 1000 200 200\n"
     ]
    },
    {
     "name": "stderr",
     "output_type": "stream",
     "text": [
      "\n"
     ]
    }
   ],
   "source": [
    "from tqdm import tqdm\n",
    "\n",
    "for q in tqdm(queries[1:]):\n",
    "    responses.extend(fetch_first_n(q, n=1000))"
   ]
  },
  {
   "cell_type": "code",
   "execution_count": 60,
   "id": "fcb7a30e-e1f1-4f55-b56d-fbdf71701818",
   "metadata": {},
   "outputs": [
    {
     "data": {
      "text/plain": [
       "50"
      ]
     },
     "execution_count": 60,
     "metadata": {},
     "output_type": "execute_result"
    }
   ],
   "source": [
    "len(responses)"
   ]
  },
  {
   "cell_type": "code",
   "execution_count": 63,
   "id": "8d6f64c9-26d3-40da-99f8-ace16ea856e1",
   "metadata": {},
   "outputs": [],
   "source": [
    "import json\n",
    "\n",
    "with open('query_responses.json','w') as f:\n",
    "    json.dump(responses, f, indent=2)"
   ]
  },
  {
   "cell_type": "code",
   "execution_count": 80,
   "id": "e8871146-3652-4b82-a9a4-f58ffc3e1828",
   "metadata": {},
   "outputs": [],
   "source": [
    "query_analysis = {}\n",
    "\n",
    "for r in responses:\n",
    "    highlighting = r['highlighting']\n",
    "    q = r['responseHeader']['params']['q']\n",
    "    docs = r['response']['docs']\n",
    "    docs_with_highlighting = []\n",
    "    for d in docs:\n",
    "        dwh = {k: v for k, v in d.items()}\n",
    "        h_for_doc = highlighting.get(d['id'])\n",
    "        if h_for_doc:\n",
    "            dwh['highlighting'] = h_for_doc\n",
    "        docs_with_highlighting.append(dwh)\n",
    "    if q not in query_analysis:\n",
    "        query_analysis[q] = {\"returned\": []}\n",
    "    query_analysis[q][\"returned\"].extend(docs_with_highlighting)"
   ]
  },
  {
   "cell_type": "markdown",
   "id": "91b3a055-f414-4a22-85d9-8a60720c943a",
   "metadata": {},
   "source": [
    "ADS display template: https://github.com/adsabs/bumblebee/blob/752b9146a404de2cfefebf55cb0cc983907f7519/src/js/widgets/list_of_things/templates/item-template.html\n",
    "\n",
    "The template depends on preprocessing of the API JSON response by custom JS code, e.g. to produce a `formattedDate` field and a `links` field which is derived from various raw-API-response fields."
   ]
  },
  {
   "cell_type": "code",
   "execution_count": 82,
   "id": "d21e77e0-359b-4dac-845b-8179ca1eaba4",
   "metadata": {},
   "outputs": [],
   "source": [
    "query_topic_reviews = {\n",
    "    'full:\"coronal mass ejection\"': ['bibcode:2017LRSP...14....5K', 'bibcode:2012LRSP....9....3W'],\n",
    "    'full:\"solar wind\"': ['bibcode:2021LRSP...18....3V'],\n",
    "    'full:\"ionospheric_conductivity\"': ['bibcode:1993JATP...55.1493B', 'bibcode:2008AnGeo..26.3913A', 'bibcode:2012GMS...197..143M', 'bibcode:1956NCim....4S1385C'],\n",
    "    'full:\"space weather\"': ['bibcode:2006LRSP....3....2S', 'bibcode:2021LRSP...18....4T', 'bibcode:2007LRSP....4....1P', 'bibcode:2015AdSpR..55.2745S', 'bibcode:2022FrASS...8..253B'],\n",
    "    'full:\"geomagnetically induced current\"': ['bibcode:2017SpWea..15..828P', 'bibcode:2017SpWea..15..258B'],\n",
    "    'full:(\"solar wind\" AND magnetosphere AND coupling)': ['bibcode:2021LRSP...18....3V', 'bibcode:2007LRSP....4....1P', 'bibcode:2022FrASS...908629D'],\n",
    "    'full:(magnetosphere AND ionosphere AND coupling)': ['bibcode:2007LRSP....4....1P', 'bibcode:2008SSRv..139..235W'],\n",
    "    'full:(\"interplanetary magnetic field\" AND reconnection)': ['bibcode:2012SSRv..172..187G', 'bibcode:2011SSRv..160...95F', 'bibcode:2021LRSP...18....3V'],\n",
    "    'full:\"substorm\"': ['bibcode:2015SSRv..190....1K'],\n",
    "    'full:\"particle acceleration\"': ['bibcode:2012SSRv..173..433F', 'bibcode:2012SSRv..173..103M'],\n",
    "}"
   ]
  },
  {
   "cell_type": "code",
   "execution_count": 85,
   "id": "aea924d6-4bea-40b3-a87f-2a3595491faa",
   "metadata": {},
   "outputs": [
    {
     "name": "stderr",
     "output_type": "stream",
     "text": [
      "  0%|          | 0/10 [00:00<?, ?it/s]"
     ]
    },
    {
     "name": "stdout",
     "output_type": "stream",
     "text": [
      "full:\"coronal mass ejection\" 1000\n",
      "fetching bibcode:2017LRSP...14....5K for full:\"coronal mass ejection\"\n"
     ]
    },
    {
     "name": "stderr",
     "output_type": "stream",
     "text": [
      " 10%|█         | 1/10 [00:00<00:04,  1.93it/s]"
     ]
    },
    {
     "name": "stdout",
     "output_type": "stream",
     "text": [
      "fetching bibcode:2012LRSP....9....3W for full:\"coronal mass ejection\"\n",
      "full:\"solar wind\" 1000\n",
      "fetching bibcode:2021LRSP...18....3V for full:\"solar wind\"\n"
     ]
    },
    {
     "name": "stderr",
     "output_type": "stream",
     "text": [
      " 20%|██        | 2/10 [00:00<00:03,  2.37it/s]"
     ]
    },
    {
     "name": "stdout",
     "output_type": "stream",
     "text": [
      "full:\"ionospheric_conductivity\" 1000\n",
      "fetching bibcode:1993JATP...55.1493B for full:\"ionospheric_conductivity\"\n",
      "fetching bibcode:2008AnGeo..26.3913A for full:\"ionospheric_conductivity\"\n",
      "fetching bibcode:2012GMS...197..143M for full:\"ionospheric_conductivity\"\n",
      "fetching bibcode:1956NCim....4S1385C for full:\"ionospheric_conductivity\"\n"
     ]
    },
    {
     "name": "stderr",
     "output_type": "stream",
     "text": [
      " 30%|███       | 3/10 [00:01<00:04,  1.65it/s]"
     ]
    },
    {
     "name": "stdout",
     "output_type": "stream",
     "text": [
      "full:\"space weather\" 1000\n",
      "fetching bibcode:2006LRSP....3....2S for full:\"space weather\"\n",
      "fetching bibcode:2021LRSP...18....4T for full:\"space weather\"\n",
      "fetching bibcode:2007LRSP....4....1P for full:\"space weather\"\n",
      "fetching bibcode:2015AdSpR..55.2745S for full:\"space weather\"\n"
     ]
    },
    {
     "name": "stderr",
     "output_type": "stream",
     "text": [
      " 40%|████      | 4/10 [00:03<00:05,  1.08it/s]"
     ]
    },
    {
     "name": "stdout",
     "output_type": "stream",
     "text": [
      "fetching bibcode:2022FrASS...8..253B for full:\"space weather\"\n",
      "full:\"geomagnetically induced current\" 1000\n",
      "fetching bibcode:2017SpWea..15..828P for full:\"geomagnetically induced current\"\n",
      "fetching bibcode:2017SpWea..15..258B for full:\"geomagnetically induced current\"\n"
     ]
    },
    {
     "name": "stderr",
     "output_type": "stream",
     "text": [
      " 50%|█████     | 5/10 [00:03<00:03,  1.26it/s]"
     ]
    },
    {
     "name": "stdout",
     "output_type": "stream",
     "text": [
      "full:(\"solar wind\" AND magnetosphere AND coupling) 1000\n",
      "fetching bibcode:2021LRSP...18....3V for full:(\"solar wind\" AND magnetosphere AND coupling)\n",
      "fetching bibcode:2007LRSP....4....1P for full:(\"solar wind\" AND magnetosphere AND coupling)\n"
     ]
    },
    {
     "name": "stderr",
     "output_type": "stream",
     "text": [
      " 60%|██████    | 6/10 [00:04<00:03,  1.27it/s]"
     ]
    },
    {
     "name": "stdout",
     "output_type": "stream",
     "text": [
      "fetching bibcode:2022FrASS...908629D for full:(\"solar wind\" AND magnetosphere AND coupling)\n",
      "full:(magnetosphere AND ionosphere AND coupling) 1000\n",
      "fetching bibcode:2007LRSP....4....1P for full:(magnetosphere AND ionosphere AND coupling)\n"
     ]
    },
    {
     "name": "stderr",
     "output_type": "stream",
     "text": [
      " 70%|███████   | 7/10 [00:04<00:01,  1.50it/s]"
     ]
    },
    {
     "name": "stdout",
     "output_type": "stream",
     "text": [
      "fetching bibcode:2008SSRv..139..235W for full:(magnetosphere AND ionosphere AND coupling)\n",
      "full:(\"interplanetary magnetic field\" AND reconnection) 1000\n",
      "fetching bibcode:2012SSRv..172..187G for full:(\"interplanetary magnetic field\" AND reconnection)\n",
      "fetching bibcode:2011SSRv..160...95F for full:(\"interplanetary magnetic field\" AND reconnection)\n",
      "fetching bibcode:2021LRSP...18....3V for full:(\"interplanetary magnetic field\" AND reconnection)\n"
     ]
    },
    {
     "name": "stderr",
     "output_type": "stream",
     "text": [
      " 90%|█████████ | 9/10 [00:05<00:00,  2.02it/s]"
     ]
    },
    {
     "name": "stdout",
     "output_type": "stream",
     "text": [
      "full:\"substorm\" 1000\n",
      "fetching bibcode:2015SSRv..190....1K for full:\"substorm\"\n",
      "full:\"particle acceleration\" 1000\n",
      "fetching bibcode:2012SSRv..173..433F for full:\"particle acceleration\"\n"
     ]
    },
    {
     "name": "stderr",
     "output_type": "stream",
     "text": [
      "100%|██████████| 10/10 [00:05<00:00,  1.70it/s]"
     ]
    },
    {
     "name": "stdout",
     "output_type": "stream",
     "text": [
      "fetching bibcode:2012SSRv..173..103M for full:\"particle acceleration\"\n"
     ]
    },
    {
     "name": "stderr",
     "output_type": "stream",
     "text": [
      "\n"
     ]
    }
   ],
   "source": [
    "for q, a in tqdm(query_analysis.items(), total=len(query_analysis)):\n",
    "    print(q, len(a[\"returned\"]))\n",
    "    if \"topic_review_info\" not in a:\n",
    "        a[\"topic_review_info\"] = []\n",
    "    for q_bibcode in query_topic_reviews[q]:\n",
    "        print(f\"fetching {q_bibcode} for {q}\")\n",
    "        a[\"topic_review_info\"].append(fetch_first_page(q_bibcode))"
   ]
  },
  {
   "cell_type": "code",
   "execution_count": 104,
   "id": "e7c12d32-3186-422c-8b9d-16f8e16944a6",
   "metadata": {
    "tags": []
   },
   "outputs": [],
   "source": [
    "for q, a in query_analysis.items():\n",
    "    a[\"relevant_bibcodes\"] = set()\n",
    "    for response in a[\"topic_review_info\"]:\n",
    "        a[\"relevant_bibcodes\"] |= set(response['response']['docs'][0]['reference'])\n",
    "    a[\"relevant_bibcodes\"] = list(a[\"relevant_bibcodes\"])"
   ]
  },
  {
   "cell_type": "code",
   "execution_count": 105,
   "id": "e8b9b4e7-cd84-4ec7-92a0-ac276b0033f8",
   "metadata": {},
   "outputs": [],
   "source": [
    "for q, a in query_analysis.items():\n",
    "    for doc in a['returned']:\n",
    "        doc_bibcodes = set()\n",
    "        doc_bibcodes.add(doc['bibcode'])\n",
    "        doc_bibcodes |= set(doc['identifier']) # non-bibcodes don't affect intersection check below.\n",
    "        doc[\"_relevant_as_topic_review_ref\"] = bool(doc_bibcodes & set(a[\"relevant_bibcodes\"]))"
   ]
  },
  {
   "cell_type": "code",
   "execution_count": 129,
   "id": "d34c6daf-bd8e-49ec-8955-3f841f2020af",
   "metadata": {},
   "outputs": [
    {
     "name": "stdout",
     "output_type": "stream",
     "text": [
      "query 'full:\"coronal mass ejection\"':\n",
      "  first relevant result at position: N/A\n",
      "query 'full:\"solar wind\"':\n",
      "  first relevant result at position: N/A\n",
      "query 'full:\"ionospheric_conductivity\"':\n",
      "  first relevant result at position: N/A\n",
      "query 'full:\"space weather\"':\n",
      "  first relevant result at position: N/A\n",
      "query 'full:\"geomagnetically induced current\"':\n",
      "  first relevant result at position: 679\n",
      "query 'full:(\"solar wind\" AND magnetosphere AND coupling)':\n",
      "  first relevant result at position: 839\n",
      "query 'full:(magnetosphere AND ionosphere AND coupling)':\n",
      "  first relevant result at position: N/A\n",
      "query 'full:(\"interplanetary magnetic field\" AND reconnection)':\n",
      "  first relevant result at position: N/A\n",
      "query 'full:\"substorm\"':\n",
      "  first relevant result at position: N/A\n",
      "query 'full:\"particle acceleration\"':\n",
      "  first relevant result at position: N/A\n"
     ]
    }
   ],
   "source": [
    "for q, a in query_analysis.items():\n",
    "    relevant = [doc[\"_relevant_as_topic_review_ref\"] for doc in a['returned']]\n",
    "    print(f\"query '{q}':\")\n",
    "    print(f\"  first relevant result at position: {next((i for i, r in enumerate(relevant) if r), 'N/A')}\")"
   ]
  },
  {
   "cell_type": "code",
   "execution_count": 130,
   "id": "184759fc-b1cc-4da5-a785-f49f2b6025fb",
   "metadata": {},
   "outputs": [],
   "source": [
    "import json\n",
    "\n",
    "with open('query_analysis.json','w') as f:\n",
    "    json.dump(query_analysis, f, indent=2)"
   ]
  },
  {
   "cell_type": "code",
   "execution_count": 131,
   "id": "16810015-2fa3-4eb3-bbb5-e84390e73d78",
   "metadata": {},
   "outputs": [
    {
     "name": "stdout",
     "output_type": "stream",
     "text": [
      "query 'full:\"coronal mass ejection\"':\n",
      "  first relevant result at position: N/A\n",
      "query 'full:\"solar wind\"':\n",
      "  first relevant result at position: N/A\n",
      "query 'full:\"ionospheric_conductivity\"':\n",
      "  first relevant result at position: N/A\n",
      "query 'full:\"space weather\"':\n",
      "  first relevant result at position: N/A\n",
      "query 'full:\"geomagnetically induced current\"':\n",
      "  first relevant result at position: 679\n",
      "query 'full:(\"solar wind\" AND magnetosphere AND coupling)':\n",
      "  first relevant result at position: 839\n",
      "query 'full:(magnetosphere AND ionosphere AND coupling)':\n",
      "  first relevant result at position: N/A\n",
      "query 'full:(\"interplanetary magnetic field\" AND reconnection)':\n",
      "  first relevant result at position: N/A\n",
      "query 'full:\"substorm\"':\n",
      "  first relevant result at position: N/A\n",
      "query 'full:\"particle acceleration\"':\n",
      "  first relevant result at position: N/A\n"
     ]
    }
   ],
   "source": [
    "import json\n",
    "\n",
    "with open('query_analysis.json','r') as f:\n",
    "    qa_loaded = json.load(f)\n",
    "    \n",
    "for q, a in qa_loaded.items():\n",
    "    relevant = [doc[\"_relevant_as_topic_review_ref\"] for doc in a['returned']]\n",
    "    print(f\"query '{q}':\")\n",
    "    print(f\"  first relevant result at position: {next((i for i, r in enumerate(relevant) if r), 'N/A')}\")"
   ]
  }
 ],
 "metadata": {
  "kernelspec": {
   "display_name": "Python 3 (ipykernel)",
   "language": "python",
   "name": "python3"
  },
  "language_info": {
   "codemirror_mode": {
    "name": "ipython",
    "version": 3
   },
   "file_extension": ".py",
   "mimetype": "text/x-python",
   "name": "python",
   "nbconvert_exporter": "python",
   "pygments_lexer": "ipython3",
   "version": "3.10.5"
  }
 },
 "nbformat": 4,
 "nbformat_minor": 5
}
