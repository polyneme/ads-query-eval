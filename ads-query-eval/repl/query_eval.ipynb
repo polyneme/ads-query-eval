{
 "cells": [
  {
   "cell_type": "code",
   "execution_count": 5,
   "id": "47c1a357-db31-420c-b224-6dde98071111",
   "metadata": {},
   "outputs": [],
   "source": [
    "import os\n",
    "from urllib.parse import urlencode\n",
    "\n",
    "import requests\n",
    "\n",
    "url = \"https://ui.adsabs.harvard.edu/v1/search/query\"\n",
    "\n",
    "headers = {\n",
    "    \"Accept\": \"application/json\",\n",
    "    \"Content-type\": \"application/json\",\n",
    "    \"Authorization\": f\"Bearer {os.getenv('ADS_API_TOKEN')}\"\n",
    "}\n",
    "\n",
    "def params_for(q=\"\"):\n",
    "    return {\n",
    "        \"__clearBigQuery\": \"true\",\n",
    "        \"fl\": (\n",
    "            \"identifier,[citations],abstract,author,book_author,\"\n",
    "            \"orcid_pub,orcid_user,orcid_other,bibcode,citation_count,\"\n",
    "            \"comment,doi,id,keyword,page,property,pub,pub_raw,pubdate,pubnote,\"\n",
    "            \"read_count,title,volume,links_data,esources,data,\"\n",
    "            \"citation_count_norm,email,doctype\"\n",
    "        ),\n",
    "        \"q\": q,\n",
    "        \"hl\": \"true\",\n",
    "        \"hl.fl\": \"title,abstract,body,ack,*\",\n",
    "        \"hl.maxAnalyzedChars\": \"150000\",\n",
    "        \"hl.requireFieldMatch\": \"true\",\n",
    "        \"hl.usePhraseHighlighter\": \"true\",\n",
    "        \"rows\": \"25\",\n",
    "        \"sort\": \"date desc, bibcode desc\",\n",
    "        \"start\": \"0\"\n",
    "    }\n",
    "\n",
    "def fetch(q):\n",
    "    encoded_query = urlencode(params_for(q))\n",
    "    return requests.get(f\"{url}?{encoded_query}\", headers=headers)"
   ]
  },
  {
   "cell_type": "code",
   "execution_count": 6,
   "id": "d5ecd8c3-6d89-4651-857a-cd43a06ed72b",
   "metadata": {},
   "outputs": [],
   "source": [
    "queries = (\n",
    "    'full:\"coronal mass ejection\"',\n",
    "    'full:\"solar wind\"',\n",
    "    'full:\"ionospheric_conductivity\"',\n",
    "    'full:\"geomagnetically induced current\"',\n",
    "    'full:(\"solar wind\" AND magnetosphere AND coupling)',\n",
    "    'full:(magnetosphere AND ionosphere AND coupling)',\n",
    "    'full:(\"interplanetary magnetic field\" AND reconnection)',\n",
    "    'full:\"substorm\"',\n",
    "    'full:\"particle acceleration\"',\n",
    "    'similar(bibcode:2015AdSpR..55.2745S)',\n",
    "    'useful(topn(200,similar(1958ApJ...128..664P)))',\n",
    "    'useful(topn(200,similar(1961PhRvL...6...47D)))',\n",
    "    'trending(full:\"space weather\")'\n",
    ")"
   ]
  },
  {
   "cell_type": "code",
   "execution_count": 7,
   "id": "0911e165-d31c-4730-915c-076c1adaae9d",
   "metadata": {
    "tags": []
   },
   "outputs": [
    {
     "name": "stderr",
     "output_type": "stream",
     "text": [
      "100%|██████████| 13/13 [01:23<00:00,  6.39s/it]\n"
     ]
    }
   ],
   "source": [
    "from tqdm import tqdm\n",
    "\n",
    "from time import sleep\n",
    "\n",
    "responses = []\n",
    "\n",
    "for q in tqdm(queries):\n",
    "    responses.append(fetch(q))\n",
    "    sleep(2)"
   ]
  },
  {
   "cell_type": "code",
   "execution_count": 9,
   "id": "5297df03-eb3d-4784-86dd-c4c66ebc6268",
   "metadata": {},
   "outputs": [],
   "source": [
    "assert all(rv.status_code == 200 for rv in responses)"
   ]
  },
  {
   "cell_type": "code",
   "execution_count": 11,
   "id": "d48d6b30-45b3-4a51-99e5-b664aea0e040",
   "metadata": {},
   "outputs": [],
   "source": [
    "api_responses = [rv.json() for rv in responses]"
   ]
  },
  {
   "cell_type": "code",
   "execution_count": 34,
   "id": "e8871146-3652-4b82-a9a4-f58ffc3e1828",
   "metadata": {},
   "outputs": [],
   "source": [
    "docs_for_query = {}\n",
    "\n",
    "for r in api_responses:\n",
    "    highlighting = r['highlighting']\n",
    "    q = r['responseHeader']['params']['q']\n",
    "    docs = r['response']['docs']\n",
    "    docs_with_highlighting = []\n",
    "    for d in docs:\n",
    "        dwh = {k: v for k, v in d.items()}\n",
    "        h_for_doc = highlighting.get(d['id'])\n",
    "        if h_for_doc:\n",
    "            dwh['highlighting'] = h_for_doc\n",
    "        docs_with_highlighting.append(dwh)\n",
    "    docs_for_query[q] = docs_with_highlighting"
   ]
  },
  {
   "cell_type": "code",
   "execution_count": null,
   "id": "91dd8072-7226-4f0b-9b8e-54a75b2bfe69",
   "metadata": {},
   "outputs": [],
   "source": [
    "# formattedDate: YYYY/MM\n",
    "response['response']['docs'][0]['pubdate']"
   ]
  },
  {
   "cell_type": "markdown",
   "id": "91b3a055-f414-4a22-85d9-8a60720c943a",
   "metadata": {},
   "source": [
    "ADS display template: https://github.com/adsabs/bumblebee/blob/752b9146a404de2cfefebf55cb0cc983907f7519/src/js/widgets/list_of_things/templates/item-template.html\n",
    "\n",
    "The template depends on preprocessing of the API JSON response by custom JS code, e.g. to produce a `formattedDate` field and a `links` field which is derived from various raw-API-response fields."
   ]
  },
  {
   "cell_type": "code",
   "execution_count": 35,
   "id": "737afb0a-38cb-481c-a0b5-f07d884b3a55",
   "metadata": {},
   "outputs": [],
   "source": [
    "import json\n",
    "\n",
    "with open('query_responses.json','w') as f:\n",
    "    json.dump(docs_for_query, f, indent=2)"
   ]
  },
  {
   "cell_type": "code",
   "execution_count": null,
   "id": "d21e77e0-359b-4dac-845b-8179ca1eaba4",
   "metadata": {},
   "outputs": [],
   "source": []
  }
 ],
 "metadata": {
  "kernelspec": {
   "display_name": "Python 3 (ipykernel)",
   "language": "python",
   "name": "python3"
  },
  "language_info": {
   "codemirror_mode": {
    "name": "ipython",
    "version": 3
   },
   "file_extension": ".py",
   "mimetype": "text/x-python",
   "name": "python",
   "nbconvert_exporter": "python",
   "pygments_lexer": "ipython3",
   "version": "3.10.5"
  }
 },
 "nbformat": 4,
 "nbformat_minor": 5
}
