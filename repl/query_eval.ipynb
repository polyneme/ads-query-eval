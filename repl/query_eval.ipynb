{
 "cells": [
  {
   "cell_type": "code",
   "execution_count": null,
   "id": "47c1a357-db31-420c-b224-6dde98071111",
   "metadata": {},
   "outputs": [],
   "source": [
    "import os\n",
    "from urllib.parse import urlencode\n",
    "\n",
    "import requests\n",
    "\n",
    "url = \"https://ui.adsabs.harvard.edu/v1/search/query\"\n",
    "\n",
    "headers = {\n",
    "    \"Accept\": \"application/json\",\n",
    "    \"Content-type\": \"application/json\",\n",
    "    \"Authorization\": f\"Bearer {os.getenv('ADS_API_TOKEN')}\"\n",
    "}\n",
    "\n",
    "def params_for(q=\"\"):\n",
    "    return {\n",
    "        \"__clearBigQuery\": \"true\",\n",
    "        \"fl\": (\n",
    "            \"identifier,[citations],reference,abstract,author,book_author,\"\n",
    "            \"orcid_pub,orcid_user,orcid_other,bibcode,citation_count,\"\n",
    "            \"comment,doi,id,keyword,page,property,pub,pub_raw,pubdate,pubnote,\"\n",
    "            \"read_count,title,volume,links_data,esources,data,\"\n",
    "            \"citation_count_norm,email,doctype\"\n",
    "        ),\n",
    "        \"q\": q,\n",
    "        \"hl\": \"true\",\n",
    "        \"hl.fl\": \"title,abstract,body,ack,*\",\n",
    "        \"hl.maxAnalyzedChars\": \"150000\",\n",
    "        \"hl.requireFieldMatch\": \"true\",\n",
    "        \"hl.usePhraseHighlighter\": \"true\",\n",
    "        \"rows\": \"25\",\n",
    "        \"sort\": \"score desc\",\n",
    "        \"start\": \"0\"\n",
    "    }\n",
    "\n",
    "def fetch_first_page(q):\n",
    "    encoded_query = urlencode(params_for(q))\n",
    "    response = requests.get(f\"{url}?{encoded_query}\", headers=headers)\n",
    "    if response.status_code != 200:\n",
    "            raise Exception(response.text)\n",
    "    return response.json()\n",
    "    \n",
    "\n",
    "def fetch_first_n(q, n=1000):\n",
    "    responses = []\n",
    "    n_fetched_total = 0\n",
    "    start = 0\n",
    "    rows = 200 if n > 200 else n\n",
    "    while True:\n",
    "        params = params_for(q)\n",
    "        params[\"rows\"] = str(rows)\n",
    "        params[\"start\"] = str(start)\n",
    "        response = requests.get(f\"{url}?{urlencode(params)}\", headers=headers)\n",
    "        if response.status_code != 200:\n",
    "            raise Exception(response.text)\n",
    "        rv = response.json()\n",
    "        responses.append(rv)\n",
    "        n_fetched = len(rv[\"response\"][\"docs\"])\n",
    "        n_fetched_total += n_fetched\n",
    "        if n_fetched_total >= n or n_fetched < rows:\n",
    "            print(n_fetched_total, n, n_fetched, rows)\n",
    "            break\n",
    "        else:\n",
    "            start += rows\n",
    "            print(f\"q: {q} start: {start}...\")\n",
    "    return responses"
   ]
  },
  {
   "cell_type": "code",
   "execution_count": null,
   "id": "d5ecd8c3-6d89-4651-857a-cd43a06ed72b",
   "metadata": {},
   "outputs": [],
   "source": [
    "queries = (\n",
    "    'full:\"coronal mass ejection\"',\n",
    "    'full:\"solar wind\"',\n",
    "    'full:\"ionospheric_conductivity\"',\n",
    "    'full:\"space weather\"',\n",
    "    'full:\"geomagnetically induced current\"',\n",
    "    'full:(\"solar wind\" AND magnetosphere AND coupling)',\n",
    "    'full:(magnetosphere AND ionosphere AND coupling)',\n",
    "    'full:(\"interplanetary magnetic field\" AND reconnection)',\n",
    "    'full:\"substorm\"',\n",
    "    'full:\"particle acceleration\"',\n",
    "    #'similar(bibcode:2015AdSpR..55.2745S)',\n",
    "    #'useful(topn(200,similar(1958ApJ...128..664P)))',\n",
    "    #'useful(topn(200,similar(1961PhRvL...6...47D)))',\n",
    "    #'trending(full:\"space weather\")'\n",
    ")"
   ]
  },
  {
   "cell_type": "code",
   "execution_count": null,
   "id": "2bd244ba-9311-4dd4-88ec-d6a216464cec",
   "metadata": {},
   "outputs": [],
   "source": [
    "responses = []"
   ]
  },
  {
   "cell_type": "code",
   "execution_count": null,
   "id": "0911e165-d31c-4730-915c-076c1adaae9d",
   "metadata": {
    "tags": []
   },
   "outputs": [],
   "source": [
    "from tqdm import tqdm\n",
    "\n",
    "for q in tqdm(queries):\n",
    "    responses.extend(fetch_first_n(q, n=1000))"
   ]
  },
  {
   "cell_type": "code",
   "execution_count": null,
   "id": "fcb7a30e-e1f1-4f55-b56d-fbdf71701818",
   "metadata": {},
   "outputs": [],
   "source": [
    "len(responses)"
   ]
  },
  {
   "cell_type": "code",
   "execution_count": null,
   "id": "8d6f64c9-26d3-40da-99f8-ace16ea856e1",
   "metadata": {},
   "outputs": [],
   "source": [
    "import gzip\n",
    "import json\n",
    "    \n",
    "with gzip.open('query_responses.json.gz', 'w') as f:\n",
    "    f.write(json.dumps(responses).encode('utf-8'))"
   ]
  },
  {
   "cell_type": "code",
   "execution_count": null,
   "id": "e8871146-3652-4b82-a9a4-f58ffc3e1828",
   "metadata": {},
   "outputs": [],
   "source": [
    "query_analysis = {}\n",
    "\n",
    "for r in responses:\n",
    "    highlighting = r['highlighting']\n",
    "    q = r['responseHeader']['params']['q']\n",
    "    docs = r['response']['docs']\n",
    "    docs_with_highlighting = []\n",
    "    for d in docs:\n",
    "        dwh = {k: v for k, v in d.items()}\n",
    "        h_for_doc = highlighting.get(d['id'])\n",
    "        if h_for_doc:\n",
    "            dwh['highlighting'] = h_for_doc\n",
    "        docs_with_highlighting.append(dwh)\n",
    "    if q not in query_analysis:\n",
    "        query_analysis[q] = {\"returned\": []}\n",
    "    query_analysis[q][\"returned\"].extend(docs_with_highlighting)"
   ]
  },
  {
   "cell_type": "markdown",
   "id": "91b3a055-f414-4a22-85d9-8a60720c943a",
   "metadata": {},
   "source": [
    "ADS display template: https://github.com/adsabs/bumblebee/blob/752b9146a404de2cfefebf55cb0cc983907f7519/src/js/widgets/list_of_things/templates/item-template.html\n",
    "\n",
    "The template depends on preprocessing of the API JSON response by custom JS code, e.g. to produce a `formattedDate` field and a `links` field which is derived from various raw-API-response fields."
   ]
  },
  {
   "cell_type": "code",
   "execution_count": null,
   "id": "d21e77e0-359b-4dac-845b-8179ca1eaba4",
   "metadata": {},
   "outputs": [],
   "source": [
    "query_topic_reviews = {\n",
    "    'full:\"coronal mass ejection\"': ['bibcode:2017LRSP...14....5K', 'bibcode:2012LRSP....9....3W'],\n",
    "    'full:\"solar wind\"': ['bibcode:2021LRSP...18....3V'],\n",
    "    'full:\"ionospheric_conductivity\"': ['bibcode:1993JATP...55.1493B', 'bibcode:2008AnGeo..26.3913A', 'bibcode:2012GMS...197..143M', 'bibcode:1956NCim....4S1385C'],\n",
    "    'full:\"space weather\"': ['bibcode:2006LRSP....3....2S', 'bibcode:2021LRSP...18....4T', 'bibcode:2007LRSP....4....1P', 'bibcode:2015AdSpR..55.2745S', 'bibcode:2022FrASS...8..253B'],\n",
    "    'full:\"geomagnetically induced current\"': ['bibcode:2017SpWea..15..828P', 'bibcode:2017SpWea..15..258B'],\n",
    "    'full:(\"solar wind\" AND magnetosphere AND coupling)': ['bibcode:2021LRSP...18....3V', 'bibcode:2007LRSP....4....1P', 'bibcode:2022FrASS...908629D'],\n",
    "    'full:(magnetosphere AND ionosphere AND coupling)': ['bibcode:2007LRSP....4....1P', 'bibcode:2008SSRv..139..235W'],\n",
    "    'full:(\"interplanetary magnetic field\" AND reconnection)': ['bibcode:2012SSRv..172..187G', 'bibcode:2011SSRv..160...95F', 'bibcode:2021LRSP...18....3V'],\n",
    "    'full:\"substorm\"': ['bibcode:2015SSRv..190....1K'],\n",
    "    'full:\"particle acceleration\"': ['bibcode:2012SSRv..173..433F', 'bibcode:2012SSRv..173..103M'],\n",
    "}"
   ]
  },
  {
   "cell_type": "code",
   "execution_count": null,
   "id": "aea924d6-4bea-40b3-a87f-2a3595491faa",
   "metadata": {},
   "outputs": [],
   "source": [
    "for q, a in tqdm(query_analysis.items(), total=len(query_analysis)):\n",
    "    print(q, len(a[\"returned\"]))\n",
    "    if \"topic_review_info\" not in a:\n",
    "        a[\"topic_review_info\"] = []\n",
    "    for q_bibcode in query_topic_reviews[q]:\n",
    "        print(f\"fetching {q_bibcode} for {q}\")\n",
    "        a[\"topic_review_info\"].append(fetch_first_page(q_bibcode))"
   ]
  },
  {
   "cell_type": "code",
   "execution_count": null,
   "id": "e7c12d32-3186-422c-8b9d-16f8e16944a6",
   "metadata": {
    "tags": []
   },
   "outputs": [],
   "source": [
    "for q, a in query_analysis.items():\n",
    "    a[\"relevant_bibcodes\"] = set()\n",
    "    for response in a[\"topic_review_info\"]:\n",
    "        a[\"relevant_bibcodes\"] |= set(response['response']['docs'][0]['reference'])\n",
    "    a[\"relevant_bibcodes\"] = list(a[\"relevant_bibcodes\"])"
   ]
  },
  {
   "cell_type": "code",
   "execution_count": null,
   "id": "e8b9b4e7-cd84-4ec7-92a0-ac276b0033f8",
   "metadata": {},
   "outputs": [],
   "source": [
    "for q, a in query_analysis.items():\n",
    "    for doc in a['returned']:\n",
    "        doc_bibcodes = set()\n",
    "        doc_bibcodes.add(doc['bibcode'])\n",
    "        doc_bibcodes |= set(doc['identifier']) # non-bibcodes don't affect intersection check below.\n",
    "        doc[\"_relevant_as_topic_review_ref\"] = bool(doc_bibcodes & set(a[\"relevant_bibcodes\"]))"
   ]
  },
  {
   "cell_type": "code",
   "execution_count": null,
   "id": "d34c6daf-bd8e-49ec-8955-3f841f2020af",
   "metadata": {},
   "outputs": [],
   "source": [
    "ranks = []\n",
    "for q, a in query_analysis.items():\n",
    "    relevant = [doc[\"_relevant_as_topic_review_ref\"] for doc in a['returned']]\n",
    "    print(f\"query: '{q}'\")\n",
    "    print(f\"--  R@1000: {sum(relevant)/len(relevant):.2%}\")\n",
    "    rank = next((i for i, r in enumerate(relevant) if r), None)\n",
    "    print(f\"--  first relevant result at position: {rank if rank is not None else '>1000'}\")\n",
    "    print()\n",
    "    ranks.append(rank)\n",
    "print()\n",
    "print(\"Mean Reciprocal Rank (MRR):\", sum([1/(r+1) for r in ranks])/len(ranks))"
   ]
  },
  {
   "cell_type": "code",
   "execution_count": null,
   "id": "184759fc-b1cc-4da5-a785-f49f2b6025fb",
   "metadata": {},
   "outputs": [],
   "source": [
    "import gzip\n",
    "import json\n",
    "    \n",
    "with gzip.open('query_analysis.json.gz', 'w') as f:\n",
    "    f.write(json.dumps(query_analysis).encode('utf-8'))"
   ]
  },
  {
   "cell_type": "code",
   "execution_count": null,
   "id": "16810015-2fa3-4eb3-bbb5-e84390e73d78",
   "metadata": {},
   "outputs": [],
   "source": [
    "import gzip\n",
    "import json\n",
    "\n",
    "with gzip.open('query_analysis.json.gz', 'r') as f:\n",
    "    qa_loaded = json.loads(f.read().decode('utf-8'))\n",
    "    \n",
    "for q, a in qa_loaded.items():\n",
    "    pass"
   ]
  },
  {
   "cell_type": "code",
   "execution_count": null,
   "id": "6f4b5039-6491-4e61-9ad8-b743d1e5a8cc",
   "metadata": {},
   "outputs": [],
   "source": []
  }
 ],
 "metadata": {
  "kernelspec": {
   "display_name": "Python 3 (ipykernel)",
   "language": "python",
   "name": "python3"
  },
  "language_info": {
   "codemirror_mode": {
    "name": "ipython",
    "version": 3
   },
   "file_extension": ".py",
   "mimetype": "text/x-python",
   "name": "python",
   "nbconvert_exporter": "python",
   "pygments_lexer": "ipython3",
   "version": "3.10.6"
  }
 },
 "nbformat": 4,
 "nbformat_minor": 5
}
