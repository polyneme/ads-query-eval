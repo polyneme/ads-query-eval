{
 "cells": [
  {
   "cell_type": "code",
   "execution_count": 1,
   "id": "b11472af-5ebe-407a-ada8-7a06fec4c886",
   "metadata": {},
   "outputs": [
    {
     "name": "stdout",
     "output_type": "stream",
     "text": [
      "Checking for 200 response from http://terminus:6363/api/info...\n"
     ]
    }
   ],
   "source": [
    "from ads_query_eval.config import get_terminus_client\n",
    "from ads_query_eval.app.bootstrap import QUERIES\n",
    "\n",
    "client = get_terminus_client()"
   ]
  },
  {
   "cell_type": "code",
   "execution_count": 3,
   "id": "821202b5-1e46-4294-b8a8-1d0b35c93af1",
   "metadata": {},
   "outputs": [
    {
     "data": {
      "text/plain": [
       "['terminusdb:///data/InviteLink/LoFgwWinpD25eH9YVddCFgbiFnZF_y1kwdR3ABd01p0']"
      ]
     },
     "execution_count": 3,
     "metadata": {},
     "output_type": "execute_result"
    }
   ],
   "source": [
    "import secrets\n",
    "\n",
    "client.insert_document({\n",
    "    \"@type\": \"InviteLink\",\n",
    "    \"token\": secrets.token_urlsafe(),\n",
    "})"
   ]
  },
  {
   "cell_type": "code",
   "execution_count": 25,
   "id": "f52666fe-5b37-43f8-b5b8-434c35017e47",
   "metadata": {},
   "outputs": [
    {
     "data": {
      "text/plain": [
       "({'@id': 'EmailedCredentialsLink/f1d07c99a2df661aaccbbf254a4bad3b720c27d97a4c8226278724fe7c2e0b82',\n",
       "  '@type': 'EmailedCredentialsLink',\n",
       "  'credentials_request': 'CredentialsRequest/38e6f46b7c3108f5843c2087cac9492bd7fdd9f3812f2f7394e68585724d8b68',\n",
       "  'one_time_link': 'http://localhost:5000/snappassfbc53fb068e34fb09ca9a8ee76d9b264~Iz0PS3gbowidDUdDP1NLAqV8L3VE9FjwOPs79MSTNlk%3D',\n",
       "  'user': 'User/d1c9781c55fc7f40246f2dfcee3b35d36a26fc3eda55d4efdebadf787bca21ca'},\n",
       " {'@id': 'User/d1c9781c55fc7f40246f2dfcee3b35d36a26fc3eda55d4efdebadf787bca21ca',\n",
       "  '@type': 'User',\n",
       "  'email_address': 'donny@polyneme.xyz',\n",
       "  'hashed_password': '$2b$12$HhMcxyymOEBi431N7u1E7.GhVTu79YoIxls.OmUovbByye141bDFG',\n",
       "  'username': 'd1c9781c55fc7f40246f2dfcee3b35d36a26fc3eda55d4efdebadf787bca21ca'},\n",
       " {'@id': 'CredentialsRequest/38e6f46b7c3108f5843c2087cac9492bd7fdd9f3812f2f7394e68585724d8b68',\n",
       "  '@type': 'CredentialsRequest',\n",
       "  'email_address': 'donny@polyneme.xyz',\n",
       "  'invite_link': 'InviteLink/LoFgwWinpD25eH9YVddCFgbiFnZF_y1kwdR3ABd01p0'},\n",
       " {'@id': 'InviteLink/LoFgwWinpD25eH9YVddCFgbiFnZF_y1kwdR3ABd01p0',\n",
       "  '@type': 'InviteLink',\n",
       "  'token': 'LoFgwWinpD25eH9YVddCFgbiFnZF_y1kwdR3ABd01p0'})"
      ]
     },
     "execution_count": 25,
     "metadata": {},
     "output_type": "execute_result"
    }
   ],
   "source": [
    "from ads_query_eval.lib.io import find_one\n",
    "\n",
    "ecr = find_one(client, {\"@type\": \"EmailedCredentialsLink\"})\n",
    "user = find_one(client, {\"@type\": \"User\", \"@id\": ecr['user']})\n",
    "cr = find_one(client, {\"@type\": \"CredentialsRequest\", \"@id\": ecr['credentials_request']})\n",
    "il = find_one(client, {\"@type\": \"InviteLink\", \"@id\": cr['invite_link']})\n",
    "ecr, user, cr, il"
   ]
  },
  {
   "cell_type": "code",
   "execution_count": 27,
   "id": "a7f61791-b1d1-4825-b852-95cb38ba8b2c",
   "metadata": {},
   "outputs": [
    {
     "data": {
      "text/plain": [
       "[{'@id': 'InviteLink/LoFgwWinpD25eH9YVddCFgbiFnZF_y1kwdR3ABd01p0',\n",
       "  '@type': 'InviteLink',\n",
       "  'token': 'LoFgwWinpD25eH9YVddCFgbiFnZF_y1kwdR3ABd01p0'}]"
      ]
     },
     "execution_count": 27,
     "metadata": {},
     "output_type": "execute_result"
    }
   ],
   "source": [
    "client.get_documents_by_type(\"InviteLink\", as_list=True)"
   ]
  },
  {
   "cell_type": "code",
   "execution_count": null,
   "id": "bf3afb76-e440-4273-806d-d84cd67ab065",
   "metadata": {},
   "outputs": [],
   "source": [
    "client.replace_document([\n",
    "    {\n",
    "        \"@type\": \"Query\",\n",
    "        \"query_literal\": 'full:\"coronal mass ejection\"',\n",
    "        \"@capture\": \"id_query_cme\"\n",
    "    },\n",
    "    {\n",
    "        \"@type\": \"Retrieval\",\n",
    "        \"query\": {\"@ref\": \"id_query_cme\"},\n",
    "        \"status\": \"completed\",\n",
    "        \"done\": True,\n",
    "        \"@capture\": \"id_retrieval_cme\"\n",
    "    },\n",
    "    {\n",
    "        \"@type\": \"RetrievedItemsList\",\n",
    "        \"retrieval\": {\"@ref\": \"id_retrieval_cme\"},\n",
    "        \"@capture\": \"id_retrieved_items_list_cme\"\n",
    "    },\n",
    "    {\n",
    "        \"retrieved_items_list\": {\"@ref\": \"id_retrieved_items_list_cme\"},\n",
    "        \"retrievable_item\": {\"@ref\": \"id_item_2022npjAM..14...43F\"}\n",
    "    },\n",
    "    {\n",
    "        \"ads_bibcode\": \"2022npjAM..14...43F\",\n",
    "        \"@capture\": \"id_item_2022npjAM..14...43F\"\n",
    "    },\n",
    "    {\n",
    "        \"fqn\": \"ads_query_eval.frame.evaluators.hal\",\n",
    "        \"version\": \"0.1\",\n",
    "        \"config\": {\"mode\": \"awesome\"},\n",
    "        \"@capture\": \"id_evaluator_hal\"\n",
    "    },\n",
    "    {\n",
    "        \"evaluator\": {\"@ref\": \"id_evaluator_hal\"},\n",
    "        \"p_at_25\": 0.55,\n",
    "        \"r_at_1000\": 0.10,\n",
    "        \"done\": True,\n",
    "        \"status\": \"completed\",\n",
    "        \"@capture\": \"id_evaluation_hal\"\n",
    "    },\n",
    "    {\n",
    "        \"category\": \"SensedEvaluationOfRetrievedItemsByProcedure\",\n",
    "        \"operations\": [{\"@ref\": \"id_evaluation_hal\"}]\n",
    "    },\n",
    "    {\n",
    "        \"category\": \"ScheduledRetrieval\",\n",
    "        \"operations\": [{\"@ref\": \"id_retrieval_cme\"}]\n",
    "    }\n",
    "], commit_msg=\"Adding test docs\", create=True)\n",
    "\n",
    "\n",
    "list(client.get_all_documents())"
   ]
  },
  {
   "cell_type": "code",
   "execution_count": null,
   "id": "25c41819-1e23-4829-9781-039dd8bd2211",
   "metadata": {},
   "outputs": [],
   "source": [
    "import requests\n",
    "\n",
    "def tget(url):\n",
    "    client._check_connection()\n",
    "    return requests.get(\n",
    "        url,\n",
    "        headers=client._default_headers,\n",
    "        auth=client._auth(),\n",
    "    )\n",
    "\n",
    "def tget_ttl(dbid, which=None):\n",
    "    assert which in {\"schema\",\"instance\"}\n",
    "    rv = tget(f\"http://terminus:6363/api/triples/admin/{dbid}/local/branch/main/{which}?format=turtle\")\n",
    "    for line in rv.json().split('\\n'):\n",
    "        print(line)\n",
    "    return rv\n",
    "\n",
    "tget_ttl(client.db, which=\"schema\")\n",
    "tget_ttl(client.db, which=\"instance\")"
   ]
  }
 ],
 "metadata": {
  "kernelspec": {
   "display_name": "Python 3 (ipykernel)",
   "language": "python",
   "name": "python3"
  },
  "language_info": {
   "codemirror_mode": {
    "name": "ipython",
    "version": 3
   },
   "file_extension": ".py",
   "mimetype": "text/x-python",
   "name": "python",
   "nbconvert_exporter": "python",
   "pygments_lexer": "ipython3",
   "version": "3.10.5"
  }
 },
 "nbformat": 4,
 "nbformat_minor": 5
}
