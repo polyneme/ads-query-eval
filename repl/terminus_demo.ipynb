{
 "cells": [
  {
   "cell_type": "code",
   "execution_count": null,
   "id": "9e4bd139-dac7-4d14-bc80-7456191e662a",
   "metadata": {},
   "outputs": [],
   "source": [
    "%load_ext autoreload\n",
    "%autoreload 2"
   ]
  },
  {
   "cell_type": "code",
   "execution_count": null,
   "id": "b11472af-5ebe-407a-ada8-7a06fec4c886",
   "metadata": {},
   "outputs": [],
   "source": [
    "from pprint import pprint\n",
    "\n",
    "from terminusdb_client import WOQLQuery as WQ\n",
    "\n",
    "from ads_query_eval.config import get_terminus_client, get_terminus_config\n",
    "from ads_query_eval.app.bootstrap import QUERIES\n",
    "\n",
    "client = get_terminus_client()"
   ]
  },
  {
   "cell_type": "markdown",
   "id": "c3c7f4b3-e24d-46e3-a9cf-f4dcf80d1d98",
   "metadata": {},
   "source": [
    "# scratch"
   ]
  },
  {
   "cell_type": "markdown",
   "id": "40935733-cf23-44b9-9a92-eb32453e704d",
   "metadata": {},
   "source": [
    "# util"
   ]
  },
  {
   "cell_type": "code",
   "execution_count": null,
   "id": "e8e6174c-297d-4b4a-b9d7-a217de01d6b4",
   "metadata": {
    "tags": []
   },
   "outputs": [],
   "source": [
    "for name, defn in client.get_existing_classes().items():\n",
    "    print(name)\n",
    "    #pprint(defn)\n",
    "    #print()"
   ]
  },
  {
   "cell_type": "code",
   "execution_count": null,
   "id": "25c41819-1e23-4829-9781-039dd8bd2211",
   "metadata": {},
   "outputs": [],
   "source": [
    "import requests\n",
    "\n",
    "def tget(url):\n",
    "    client._check_connection()\n",
    "    return requests.get(\n",
    "        url,\n",
    "        headers=client._default_headers,\n",
    "        auth=client._auth(),\n",
    "    )\n",
    "\n",
    "def tget_ttl(dbid, which=None):\n",
    "    assert which in {\"schema\",\"instance\"}\n",
    "    rv = tget(f\"http://terminus:6363/api/triples/admin/{dbid}/local/branch/main/{which}?format=turtle\")\n",
    "    for line in rv.json().split('\\n'):\n",
    "        print(line)\n",
    "    return rv\n",
    "\n",
    "tget_ttl(client.db, which=\"schema\")\n",
    "#tget_ttl(client.db, which=\"instance\")"
   ]
  },
  {
   "cell_type": "code",
   "execution_count": null,
   "id": "4cd1605e-e1fd-4669-8a54-9442dcad3cd5",
   "metadata": {},
   "outputs": [],
   "source": []
  }
 ],
 "metadata": {
  "kernelspec": {
   "display_name": "Python 3 (ipykernel)",
   "language": "python",
   "name": "python3"
  },
  "language_info": {
   "codemirror_mode": {
    "name": "ipython",
    "version": 3
   },
   "file_extension": ".py",
   "mimetype": "text/x-python",
   "name": "python",
   "nbconvert_exporter": "python",
   "pygments_lexer": "ipython3",
   "version": "3.10.6"
  }
 },
 "nbformat": 4,
 "nbformat_minor": 5
}
