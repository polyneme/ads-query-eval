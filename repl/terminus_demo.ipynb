{
 "cells": [
  {
   "cell_type": "code",
   "execution_count": 1,
   "id": "9e4bd139-dac7-4d14-bc80-7456191e662a",
   "metadata": {},
   "outputs": [],
   "source": [
    "%load_ext autoreload\n",
    "%autoreload 2"
   ]
  },
  {
   "cell_type": "code",
   "execution_count": 2,
   "id": "b11472af-5ebe-407a-ada8-7a06fec4c886",
   "metadata": {},
   "outputs": [
    {
     "name": "stdout",
     "output_type": "stream",
     "text": [
      "Checking for 200 response from http://terminus:6363/api/info...\n"
     ]
    }
   ],
   "source": [
    "from pprint import pprint\n",
    "\n",
    "from terminusdb_client import WOQLQuery as WQ\n",
    "\n",
    "from ads_query_eval.config import get_terminus_client, get_terminus_config\n",
    "from ads_query_eval.app.bootstrap import QUERIES\n",
    "\n",
    "client = get_terminus_client()"
   ]
  },
  {
   "cell_type": "code",
   "execution_count": null,
   "id": "50796100-d84e-4b55-8b14-b3505f7c2afd",
   "metadata": {},
   "outputs": [],
   "source": [
    "from terminusdb_client import WOQLClient\n",
    "\n",
    "config = get_terminus_config()\n",
    "remote_client = WOQLClient(server_url=\"https://ads-query-eval-terminus.polyneme.xyz\")\n",
    "remote_client.connect(db=config[\"dbid\"], user=\"admin\", key=config[\"admin_pass\"])"
   ]
  },
  {
   "cell_type": "markdown",
   "id": "c40d35ef-cb50-4ba8-843c-19e273819190",
   "metadata": {},
   "source": [
    "# troublshoot no-abstract and no-highlighting returns"
   ]
  },
  {
   "cell_type": "code",
   "execution_count": 6,
   "id": "e11516c9-7b71-4055-b270-4934a84ac2df",
   "metadata": {},
   "outputs": [],
   "source": [
    "from ads_query_eval.frame import s3\n",
    "from ads_query_eval.config import get_s3_client\n",
    "\n",
    "s3_client = get_s3_client()\n",
    "items_content = s3.get_json(\n",
    "        client=s3_client,\n",
    "        key=\"items_top25__\" + retrieval.s3_key,\n",
    "    )"
   ]
  },
  {
   "cell_type": "code",
   "execution_count": 23,
   "id": "71bb45fd-0fa7-4679-867c-313df026fc56",
   "metadata": {},
   "outputs": [],
   "source": [
    "import requests\n",
    "\n",
    "rv = requests.get(\n",
    "    \"https://polyneme.nyc3.cdn.digitaloceanspaces.com/ads-query-eval/items_all__useful%28topn%28200,similar%281961PhRvL...6...47D%29%29%29.2022-08-24.json.gz\"\n",
    ")"
   ]
  },
  {
   "cell_type": "code",
   "execution_count": 24,
   "id": "b6048406-d1d4-4339-b54f-b6a6aff281a4",
   "metadata": {},
   "outputs": [
    {
     "data": {
      "text/plain": [
       "1000"
      ]
     },
     "execution_count": 24,
     "metadata": {},
     "output_type": "execute_result"
    }
   ],
   "source": [
    "data = rv.json()\n",
    "len(data)"
   ]
  },
  {
   "cell_type": "code",
   "execution_count": 27,
   "id": "b3ee791c-9f09-41e4-a062-ec05a776fc84",
   "metadata": {},
   "outputs": [
    {
     "data": {
      "text/plain": [
       "False"
      ]
     },
     "execution_count": 27,
     "metadata": {},
     "output_type": "execute_result"
    }
   ],
   "source": [
    "'abstract' in data[0].keys()"
   ]
  },
  {
   "cell_type": "markdown",
   "id": "c3c7f4b3-e24d-46e3-a9cf-f4dcf80d1d98",
   "metadata": {},
   "source": [
    "# scratch"
   ]
  },
  {
   "cell_type": "code",
   "execution_count": null,
   "id": "9a893753-629e-417a-9b3f-801b1ebec0c3",
   "metadata": {},
   "outputs": [],
   "source": [
    "#remote_client.replace_document(local_schema[\"Operation\"], graph_type=\"schema\", commit_msg=\"add optional status_reason\")\n",
    "remote_schema = remote_client.get_existing_classes()"
   ]
  },
  {
   "cell_type": "code",
   "execution_count": null,
   "id": "f37dbb43-9af1-4a17-851c-20066964e4a3",
   "metadata": {},
   "outputs": [],
   "source": [
    "local_schema = client.get_existing_classes()"
   ]
  },
  {
   "cell_type": "code",
   "execution_count": null,
   "id": "dade960f-eddb-4d92-8a4e-a031f9c2cbd1",
   "metadata": {},
   "outputs": [],
   "source": [
    "from pprint import pprint\n",
    "\n",
    "for cls in sorted(local_schema):\n",
    "    if local_schema[cls] != remote_schema[cls]:\n",
    "        print(cls)\n",
    "        print(\"local:\")\n",
    "        pprint(local_schema[cls])\n",
    "        print(\"upstream:\")\n",
    "        pprint(remote_schema[cls])\n",
    "        print()"
   ]
  },
  {
   "cell_type": "code",
   "execution_count": null,
   "id": "55dcb904-4878-4421-83a4-56ac1d6b4913",
   "metadata": {},
   "outputs": [],
   "source": [
    "# document types that need new @id values and/or updated references:\n",
    "# Retrieval @id:lexical(s3_key)\n",
    "# RetrievedItem @id:hash(ads_bibcode,retrieval) retrieval:Retrieval\n",
    "# Retrieval items:list[RetrievedItem]\n",
    "# Evaluation retrieval:Retrieval\n",
    "# ItemOfEvaluation @id:hash(evaluation,retrieved_item) retrieved_item:RetrievedItem"
   ]
  },
  {
   "cell_type": "markdown",
   "id": "f771d22b-cd84-4a31-bc37-7d267a283570",
   "metadata": {},
   "source": [
    "1. copy local Retrieval docs, remove items, then insert no-items docs into remote\n",
    "1. insert local RetrievedItem docs into remote\n",
    "1. replace remote Retrieval docs with local docs (now that RetrievedItem docs exist)\n",
    "1. correct retrieval references of remote Evaluation docs\n",
    "1. create updated ItemOfEvaluation docs and insert into remote"
   ]
  },
  {
   "cell_type": "markdown",
   "id": "fb11cc54-7298-4c82-afee-d46736bdd7eb",
   "metadata": {},
   "source": [
    "### copy local Retrieval docs, remove items, then insert no-items docs into remote"
   ]
  },
  {
   "cell_type": "code",
   "execution_count": null,
   "id": "4fcb2e05-4bbd-4174-abe0-442afece387f",
   "metadata": {},
   "outputs": [],
   "source": [
    "docs = []\n",
    "for doc in client.get_documents_by_type(\"Retrieval\"):\n",
    "    doc[\"items\"] = []\n",
    "    docs.append(doc)"
   ]
  },
  {
   "cell_type": "markdown",
   "id": "7cc624ef-9a90-4c74-94b1-f4c77edd481d",
   "metadata": {},
   "source": [
    "`docs` is now all local Retrieval docs, with `.items` set to `[]`"
   ]
  },
  {
   "cell_type": "code",
   "execution_count": null,
   "id": "64b1c29c-b963-486e-a7ca-cc201fba6e89",
   "metadata": {},
   "outputs": [],
   "source": [
    "remote_client.insert_document(docs, commit_msg=\"insert corrected retrievals\")"
   ]
  },
  {
   "cell_type": "markdown",
   "id": "05f70329-7a74-4180-9c13-ec05f2082152",
   "metadata": {},
   "source": [
    "I eventually want to delete the above, but perhaps there are evaluations tied to them?"
   ]
  },
  {
   "cell_type": "markdown",
   "id": "a6022ea2-bd26-48fb-9915-50edce9da7e3",
   "metadata": {},
   "source": [
    "### insert local RetrievedItem docs into remote"
   ]
  },
  {
   "cell_type": "code",
   "execution_count": null,
   "id": "06bcf5f9-cd4d-48fc-a039-da488a372939",
   "metadata": {},
   "outputs": [],
   "source": [
    "\n",
    "\n",
    "docs = []\n",
    "for doc in client.get_documents_by_type(\"RetrievedItem\"):\n",
    "    docs.append(doc)"
   ]
  },
  {
   "cell_type": "code",
   "execution_count": null,
   "id": "426c575d-1d63-490c-8d48-74971fa7dce2",
   "metadata": {},
   "outputs": [],
   "source": [
    "from tqdm.notebook import tqdm\n",
    "from toolz import partition_all\n",
    "for i, p in tqdm(enumerate(partition_all(1000, docs))):\n",
    "    remote_client.insert_document(list(p), commit_msg=f\"insert corrected retrieved items (partition {i} of 28)\")"
   ]
  },
  {
   "cell_type": "markdown",
   "id": "30fe585a-35c2-4199-afa0-08b194490466",
   "metadata": {},
   "source": [
    "### replace remote Retrieval docs with local docs (now that RetrievedItem docs exist)"
   ]
  },
  {
   "cell_type": "code",
   "execution_count": null,
   "id": "05f4006a-4826-467c-a35e-cea38eecd175",
   "metadata": {},
   "outputs": [],
   "source": [
    "for doc in tqdm(list(client.get_documents_by_type(\"Retrieval\"))):\n",
    "    remote_client.replace_document(doc, commit_msg=\"insert corrected retrieval with items\")"
   ]
  },
  {
   "cell_type": "markdown",
   "id": "c406a818-5cde-4ea2-b831-7247f69dc78f",
   "metadata": {},
   "source": [
    "The full corrected docs have been pushed. What about the \"incorrect\" retrievals upstream?"
   ]
  },
  {
   "cell_type": "code",
   "execution_count": null,
   "id": "b9189d54-7a87-47d1-9fbb-ec5892e0b772",
   "metadata": {},
   "outputs": [],
   "source": [
    "ids_ldocs = {d[\"@id\"] for d in client.get_documents_by_type(\"Retrieval\")}\n",
    "rdocs_old = []\n",
    "for rdoc in remote_client.get_documents_by_type(\"Retrieval\"):\n",
    "    if rdoc[\"@id\"] not in ids_ldocs:\n",
    "        rdocs_old.append(rdoc)\n",
    "ids_rdocs_old = {d[\"@id\"] for d in rdocs_old}\n",
    "print(len(rdocs_old))\n",
    "ids_rdocs_old"
   ]
  },
  {
   "cell_type": "markdown",
   "id": "5abf6404-842b-4d16-bd5f-48f16f9f06bd",
   "metadata": {},
   "source": [
    "# correct retrieval references of remote Evaluation docs"
   ]
  },
  {
   "cell_type": "code",
   "execution_count": null,
   "id": "79701f1c-f8fd-4c30-8f9d-5d06439a5c05",
   "metadata": {},
   "outputs": [],
   "source": [
    "retrieval_ids = {}\n",
    "\n",
    "(WQ()\n",
    " .triple(\"v:e\", \"type\", \"@schema:Evaluation\")\n",
    " .triple(\"v:e\", \"retrieval\", \"v:r\")\n",
    " .triple(\"v:r\", \"done_at\", \"v:done_at\")\n",
    " .execute(remote_client)[\"bindings\"]\n",
    ")"
   ]
  },
  {
   "cell_type": "code",
   "execution_count": null,
   "id": "5be080f9-49ce-435a-8ad7-f561c970df50",
   "metadata": {},
   "outputs": [],
   "source": [
    "retrieval_ids = {\n",
    "    'Retrieval/2022-08-24_full%3A%22coronal%20mass%20ejection%22': 'Retrieval/full%3A%22coronal%20mass%20ejection%22.2022-08-24.json.gz',\n",
    "    'Retrieval/2022-08-24_full%3A%22geomagnetically%20induced%20current%22': 'Retrieval/full%3A%22geomagnetically%20induced%20current%22.2022-08-24.json.gz',\n",
    "}"
   ]
  },
  {
   "cell_type": "code",
   "execution_count": null,
   "id": "8435d523-6472-40ce-915d-28c676ff8042",
   "metadata": {},
   "outputs": [],
   "source": [
    "docs = []\n",
    "for doc in remote_client.get_documents_by_type(\"Evaluation\"):\n",
    "    if doc[\"retrieval\"] in retrieval_ids:\n",
    "        doc[\"retrieval\"] = retrieval_ids[doc[\"retrieval\"]]\n",
    "        docs.append(doc)\n",
    "\n",
    "remote_client.replace_document(docs, commit_msg=\"new retrieval refs\")"
   ]
  },
  {
   "cell_type": "markdown",
   "id": "2fb612de-f876-48ff-900b-35c0ff86c0e4",
   "metadata": {},
   "source": [
    "What remote retrievals have evaluations?"
   ]
  },
  {
   "cell_type": "code",
   "execution_count": null,
   "id": "196d3540-50f7-43b7-a965-63eac8291ad4",
   "metadata": {},
   "outputs": [],
   "source": [
    "def bindings(client, woql_query):\n",
    "    return (woql_query).execute(client)[\"bindings\"]"
   ]
  },
  {
   "cell_type": "code",
   "execution_count": null,
   "id": "c1e79f59-5f91-4884-849c-86389ed67369",
   "metadata": {},
   "outputs": [],
   "source": [
    "bindings(remote_client, WQ().select(\"v:retrieval\")\n",
    "         .triple(\"v:eval\", \"type\", \"@schema:Evaluation\")\n",
    "         .triple(\"v:eval\", \"retrieval\", \"v:retrieval\")\n",
    ")\n",
    "    "
   ]
  },
  {
   "cell_type": "markdown",
   "id": "8ab1b94a-104e-470b-945c-8619211ee716",
   "metadata": {},
   "source": [
    "### create updated ItemOfEvaluation docs and insert into remote\n",
    "\n",
    "document types that need new @id values and/or updated references:\n",
    "\n",
    "- [x] Retrieval @id:lexical(s3_key)\n",
    "- [x] RetrievedItem @id:hash(ads_bibcode,retrieval) retrieval:Retrieval\n",
    "- [x] Retrieval items:list[RetrievedItem]\n",
    "- [x] Evaluation retrieval:Retrieval\n",
    "- [ ] ItemOfEvaluation @id:hash(evaluation,retrieved_item) retrieved_item:RetrievedItem\n"
   ]
  },
  {
   "cell_type": "markdown",
   "id": "21d2a9fa-3cb6-4366-a239-550386fdac82",
   "metadata": {},
   "source": [
    "What evaluations do I care about? The ones I want to ensure correct ItemOfEvaluation docs for?\n",
    "\n",
    "I care about Evaluation docs with a retrieval ID in `ids_ldocs`"
   ]
  },
  {
   "cell_type": "code",
   "execution_count": null,
   "id": "7357c18b-f81f-4e40-b8ae-8059f1e7aba6",
   "metadata": {},
   "outputs": [],
   "source": [
    "bindings(remote_client, WQ().select(\"v:eval\")\n",
    "         .triple(\"v:eval\", \"type\", \"@schema:Evaluation\")\n",
    "         .triple(\"v:eval\", \"retrieval\", \"v:retrieval\")\n",
    "         .member(\"v:retrieval\", [WQ().iri(d) for d in ids_ldocs])\n",
    ")"
   ]
  },
  {
   "cell_type": "markdown",
   "id": "de329835-4f3f-480f-82f6-58339f1d8c6c",
   "metadata": {},
   "source": [
    "Kill all other evaluations"
   ]
  },
  {
   "cell_type": "code",
   "execution_count": null,
   "id": "fd9b7146-aa8a-440d-80cc-679d1cd8a85d",
   "metadata": {},
   "outputs": [],
   "source": [
    "other_evals = bindings(remote_client, WQ().select(\"v:eval\")\n",
    "         .triple(\"v:eval\", \"type\", \"@schema:Evaluation\")\n",
    "         .triple(\"v:eval\", \"retrieval\", \"v:retrieval\")\n",
    "         .woql_not(WQ().member(\"v:retrieval\", [WQ().iri(d) for d in ids_ldocs]))\n",
    ")\n",
    "other_evals"
   ]
  },
  {
   "cell_type": "code",
   "execution_count": null,
   "id": "654b0feb-1263-44f4-bac2-62035bd72636",
   "metadata": {},
   "outputs": [],
   "source": [
    "remote_client.delete_document([d[\"eval\"] for d in other_evals])"
   ]
  },
  {
   "cell_type": "markdown",
   "id": "f0fa3544-dde6-4fe0-ada4-2b365325804b",
   "metadata": {},
   "source": [
    "Now, do I care about Retrieval docs unreferenced by an Evaluation doc? Yes. Some retrievals have not been evaluated!"
   ]
  },
  {
   "cell_type": "markdown",
   "id": "7d632d24-71ef-4263-afee-166115e5d2e4",
   "metadata": {},
   "source": [
    "An ItemOfEval doc has a retrieved_item reference. The referenced RetrievedItem will have an ads_bibode and a retrieval.\n",
    "\n",
    "For each reference to a RetrievedItem, I want to return a reference to an equivalent RetrievedItem --\n",
    "that is, a RetrievedItem with a matching ads_bibcode and with a retrieval for a matching query."
   ]
  },
  {
   "cell_type": "code",
   "execution_count": null,
   "id": "700783fe-2e06-4d98-a440-e047ae8b6055",
   "metadata": {},
   "outputs": [],
   "source": [
    "from ads_query_eval.lib.util import pick\n",
    "\n",
    "for doc in remote_client.get_documents_by_type(\"ItemOfEvaluation\"):\n",
    "    id_retrieved_item = doc[\"retrieved_item\"]"
   ]
  },
  {
   "cell_type": "markdown",
   "id": "7701a3d7-9d65-403d-892f-472b10215c89",
   "metadata": {},
   "source": [
    "How many ItemOfEvaluation docs interest me?"
   ]
  },
  {
   "cell_type": "code",
   "execution_count": null,
   "id": "dc99aec9-413e-4b14-ab6e-265ba0a0e34e",
   "metadata": {},
   "outputs": [],
   "source": [
    "bindings(remote_client, WQ().count(\"v:count\").select(\"v:ioe\")\n",
    "         .triple(\"v:eval\", \"type\", \"@schema:Evaluation\")\n",
    "         .triple(\"v:ioe\", \"type\", \"@schema:ItemOfEvaluation\")\n",
    "         .triple(\"v:ioe\", \"evaluation\", \"v:eval\")\n",
    ")"
   ]
  },
  {
   "cell_type": "markdown",
   "id": "7f20f786-1769-442e-9a13-78019ed02063",
   "metadata": {},
   "source": [
    "All of them. Right."
   ]
  },
  {
   "cell_type": "code",
   "execution_count": null,
   "id": "cd18856d-5c0c-45e7-8542-52504d6bec38",
   "metadata": {},
   "outputs": [],
   "source": [
    "stuffs = bindings(remote_client, WQ().select(\"v:ioe\", \"v:new_ioe\", \"v:retrieval\", \"v:retrieved_item\", \"v:equiv_retrieved_item\", \"v:equiv_retrieval\").woql_and(\n",
    "    WQ().triple(\"v:ioe\", \"type\", \"@schema:ItemOfEvaluation\"),\n",
    "    WQ().triple(\"v:ioe\", \"retrieved_item\", \"v:retrieved_item\"),\n",
    "    WQ().triple(\"v:retrieved_item\", \"ads_bibcode\", \"v:ads_bibcode\"),\n",
    "    WQ().triple(\"v:retrieved_item\", \"retrieval\", \"v:retrieval\"),\n",
    "    WQ().triple(\"v:equiv_retrieved_item\", \"ads_bibcode\", \"v:ads_bibcode\"),\n",
    "    WQ().woql_not(WQ().eq(\"v:equiv_retrieved_item\", \"v:retrieved_item\")),\n",
    "    WQ().triple(\"v:equiv_retrieved_item\", \"retrieval\", \"v:equiv_retrieval\"),\n",
    "    WQ().woql_not(WQ().eq(\"v:retrieval\", \"v:equiv_retrieval\")),\n",
    "    WQ().cast(\"v:retrieval\", \"xsd:string\", \"v:retrieval_id_as_str\"),\n",
    "    WQ().regexp(r\"\\d{4}-\\d{2}-\\d{2}\", \"v:retrieval_id_as_str\", \"v:retrieval_id_date_str\"),\n",
    "    WQ().cast(\"v:equiv_retrieval\", \"xsd:string\", \"v:equiv_retrieval_id_as_str\"),\n",
    "    WQ().regexp(r\"\\d{4}-\\d{2}-\\d{2}\", \"v:equiv_retrieval_id_as_str\", \"v:equiv_retrieval_id_date_str\"),\n",
    "    WQ().eq(\"v:retrieval_id_date_str\", \"v:equiv_retrieval_id_date_str\"),\n",
    "    WQ().triple(\"v:retrieval\", \"query\", \"v:query\").triple(\"v:equiv_retrieval\", \"query\",  \"v:query\"),\n",
    "    WQ().triple(\"v:ioe\", \"evaluation\", \"v:evaluation\"),\n",
    "    WQ().unique(\"ItemOfEvaluation/\", [\"v:evaluation\", \"v:equiv_retrieved_item\"], \"v:new_ioe\"),\n",
    "    \n",
    "))\n",
    "for s in stuffs:\n",
    "    assert not s[\"retrieval\"].endswith(\".json.gz\"), s\n",
    "    assert s[\"equiv_retrieval\"].endswith(\".json.gz\"), s"
   ]
  },
  {
   "cell_type": "code",
   "execution_count": null,
   "id": "a217051b-39cc-4c5e-a126-49750991950a",
   "metadata": {},
   "outputs": [],
   "source": [
    "len(stuffs)"
   ]
  },
  {
   "cell_type": "markdown",
   "id": "8d6c6408-e086-481d-9f36-aaa0471f376c",
   "metadata": {},
   "source": [
    "Wazzaaaaaaap!!"
   ]
  },
  {
   "cell_type": "code",
   "execution_count": null,
   "id": "057e154e-02ef-465f-82a0-016c3ee2870e",
   "metadata": {},
   "outputs": [],
   "source": [
    "new_ioe_docs = []\n",
    "ids_old_ioe_docs = []\n",
    "for s in stuffs:\n",
    "    doc = remote_client.get_document(s[\"ioe\"])\n",
    "    doc[\"retrieved_item\"] = s[\"equiv_retrieved_item\"]\n",
    "    ids_old_ioe_docs.append(doc.pop(\"@id\"))\n",
    "    new_ioe_docs.append(doc)"
   ]
  },
  {
   "cell_type": "code",
   "execution_count": null,
   "id": "d6e3b12e-f9d1-47a7-b44c-f44ff7185b00",
   "metadata": {},
   "outputs": [],
   "source": [
    "len(new_ioe_docs), len(ids_old_ioe_docs)"
   ]
  },
  {
   "cell_type": "code",
   "execution_count": null,
   "id": "7b99cca8-13c8-49a2-8fa2-7381f858a059",
   "metadata": {
    "tags": []
   },
   "outputs": [],
   "source": [
    "remote_client.insert_document(new_ioe_docs)"
   ]
  },
  {
   "cell_type": "code",
   "execution_count": null,
   "id": "b479aa39-34d0-43b5-921d-bb144b41cca6",
   "metadata": {},
   "outputs": [],
   "source": [
    "remote_client.delete_document(ids_old_ioe_docs)"
   ]
  },
  {
   "cell_type": "markdown",
   "id": "a6d4c8c1-a38f-4269-bbeb-10d5e07dbb82",
   "metadata": {},
   "source": [
    "Okay, now, RetrievalItem docs that reference Retrieval docs with IDs that don't end with \".json.gz\" (*takes breath*) can be deleted"
   ]
  },
  {
   "cell_type": "markdown",
   "id": "eb68b6b3-18f7-421f-8ef0-6fc68d9e5932",
   "metadata": {},
   "source": [
    "# delete stale Retrieval and RetrievedItem docs"
   ]
  },
  {
   "cell_type": "code",
   "execution_count": null,
   "id": "f0fedf26-a99e-4453-b8b9-f2646cc0e2c3",
   "metadata": {},
   "outputs": [],
   "source": [
    "bs = bindings(remote_client, WQ().woql_and(\n",
    "    WQ().triple(\"v:retrieved_item\", \"retrieval\", \"v:retrieval\"),\n",
    "    WQ().cast(\"v:retrieval\", \"xsd:string\", \"v:retrieval_id_as_str\"),\n",
    "    WQ().woql_not(WQ().regexp(r\"\\.json\\.gz$\", \"v:retrieval_id_as_str\", \"v:good_retrieval\")),\n",
    "))"
   ]
  },
  {
   "cell_type": "code",
   "execution_count": null,
   "id": "1e175c9a-f024-4588-b000-d32e3a5599e8",
   "metadata": {},
   "outputs": [],
   "source": [
    "len(bs)"
   ]
  },
  {
   "cell_type": "code",
   "execution_count": null,
   "id": "48f6a67a-8376-4564-9ed3-878bad71ccdf",
   "metadata": {},
   "outputs": [],
   "source": [
    "bs[0]"
   ]
  },
  {
   "cell_type": "code",
   "execution_count": null,
   "id": "bc2bf260-4b08-4cb2-a843-d1648673970c",
   "metadata": {},
   "outputs": [],
   "source": [
    "ri_ids = [b[\"retrieved_item\"] for b in bs]"
   ]
  },
  {
   "cell_type": "code",
   "execution_count": null,
   "id": "9a6b04a1-5bbd-49cf-b334-d88821e2b801",
   "metadata": {},
   "outputs": [],
   "source": [
    "remote_client.optimize(\"admin/ads-query-eval\")\n",
    "remote_client.optimize(\"admin/ads-query-eval/_meta\")\n",
    "remote_client.optimize(\"admin/ads-query-eval/local/_commits\")"
   ]
  },
  {
   "cell_type": "markdown",
   "id": "317a4302-bbb2-426d-8db8-dd42da483b58",
   "metadata": {},
   "source": [
    "Ah, delete the Retrieval docs first..."
   ]
  },
  {
   "cell_type": "code",
   "execution_count": null,
   "id": "1553a6f5-63ad-4a36-b4a8-6528b80e0116",
   "metadata": {},
   "outputs": [],
   "source": [
    "ids_stale_retrievals = list({b[\"retrieval\"] for b in bs})"
   ]
  },
  {
   "cell_type": "code",
   "execution_count": null,
   "id": "72765970-7057-4afd-9e2d-a3e953e53b79",
   "metadata": {},
   "outputs": [],
   "source": [
    "len(ids_stale_retrievals)"
   ]
  },
  {
   "cell_type": "code",
   "execution_count": null,
   "id": "17180a46-9f96-430e-bb6d-4c3c259d58c1",
   "metadata": {
    "tags": []
   },
   "outputs": [],
   "source": [
    "# id_ = ids_stale_retrievals[-1]\n",
    "# stale_doc = remote_client.get_document(id_)\n",
    "# stale_doc[\"items\"] = []\n",
    "\n",
    "# items_bindings = bindings(remote_client, WQ().woql_and(\n",
    "#     WQ().path(WQ().iri(id_), \"items,rdf:rest*,rdf:first\", \"v:item\"),\n",
    "#     WQ().triple(\"v:item\", \"retrieval\", \"v:retrieval\"),\n",
    "# ))\n",
    "# remote_client.replace_document(stale_doc, commit_msg=f\"purge items from {id_}\")\n",
    "# remote_client.delete_document([d[\"item\"] for d in items_bindings], commit_msg=f\"delete items for {id_}\")"
   ]
  },
  {
   "cell_type": "code",
   "execution_count": null,
   "id": "557020c1-4ac9-4405-bf5e-8958d7f82ff6",
   "metadata": {
    "tags": []
   },
   "outputs": [],
   "source": [
    "# WQ().woql_and(\n",
    "#     WQ().triple(\"v:retrieved_item\", \"retrieval\", WQ().iri(id_)),\n",
    "#     WQ().delete_document(\"v:retrieved_item\"),\n",
    "#     WQ().delete_document(WQ().iri(id_)),\n",
    "# ).execute(remote_client, commit_msg=f\"delete stale Retrieval {id_} and its RetrievalItem docs\")"
   ]
  },
  {
   "cell_type": "code",
   "execution_count": null,
   "id": "a6af1eab-d9a6-4c87-97d3-f6ecf24f6f76",
   "metadata": {},
   "outputs": [],
   "source": [
    "id_ = ids_stale_retrievals[0]"
   ]
  },
  {
   "cell_type": "code",
   "execution_count": null,
   "id": "882c1aae-5db8-4b2c-b7ae-521498f323fa",
   "metadata": {},
   "outputs": [],
   "source": [
    "len(WQ().select(\"v:id\").woql_and(\n",
    "    WQ().eq(\"v:id2\", WQ().iri(id_)),\n",
    "    (WQ().distinct(\"v:id\")\n",
    "     .triple(\"v:id1\", \"retrieval\", \"v:id2\")\n",
    "     .woql_or(\n",
    "         WQ().eq(\"v:id\", \"v:id1\"),\n",
    "         WQ().eq(\"v:id\", \"v:id2\"),\n",
    "     )\n",
    "    ),\n",
    "    #WQ().delete_document(\"v:id\"),\n",
    ").execute(remote_client)[\"bindings\"])"
   ]
  },
  {
   "cell_type": "code",
   "execution_count": null,
   "id": "f9971a81-6cf1-4fcf-a8fe-e9114c74c610",
   "metadata": {},
   "outputs": [],
   "source": [
    "for id_ in tqdm(ids_stale_retrievals):\n",
    "    WQ().select(\"v:id\").woql_and(\n",
    "        WQ().eq(\"v:id2\", WQ().iri(id_)),\n",
    "        (WQ().distinct(\"v:id\")\n",
    "         .triple(\"v:id1\", \"retrieval\", \"v:id2\")\n",
    "         .woql_or(\n",
    "             WQ().eq(\"v:id\", \"v:id1\"),\n",
    "             WQ().eq(\"v:id\", \"v:id2\"),\n",
    "         )\n",
    "        ),\n",
    "        WQ().delete_document(\"v:id\"),\n",
    "    ).execute(remote_client, commit_msg=f\"delete stale Retrieval {id_} and its RetrievalItem docs\")"
   ]
  },
  {
   "cell_type": "markdown",
   "id": "40935733-cf23-44b9-9a92-eb32453e704d",
   "metadata": {
    "tags": []
   },
   "source": [
    "# util"
   ]
  },
  {
   "cell_type": "code",
   "execution_count": null,
   "id": "e8e6174c-297d-4b4a-b9d7-a217de01d6b4",
   "metadata": {
    "tags": []
   },
   "outputs": [],
   "source": [
    "for name, defn in client.get_existing_classes().items():\n",
    "    print(name)\n",
    "    #pprint(defn)\n",
    "    #print()"
   ]
  },
  {
   "cell_type": "code",
   "execution_count": null,
   "id": "25c41819-1e23-4829-9781-039dd8bd2211",
   "metadata": {},
   "outputs": [],
   "source": [
    "import requests\n",
    "\n",
    "c = remote_client\n",
    "\n",
    "def tget(url):\n",
    "    c._check_connection()\n",
    "    return requests.get(\n",
    "        url,\n",
    "        headers=c._default_headers,\n",
    "        auth=c._auth(),\n",
    "    )\n",
    "\n",
    "def tget_ttl(dbid, which=None):\n",
    "    assert which in {\"schema\",\"instance\"}\n",
    "    rv = tget(f\"https://ads-query-eval-terminus.polyneme.xyz/api/triples/admin/{dbid}/local/branch/main/{which}?format=turtle\")\n",
    "    for line in rv.json().split('\\n'):\n",
    "        print(line)\n",
    "    return rv\n",
    "\n",
    "#tget_ttl(c.db, which=\"schema\")\n",
    "#tget_ttl(c.db, which=\"instance\")"
   ]
  },
  {
   "cell_type": "code",
   "execution_count": null,
   "id": "4cd1605e-e1fd-4669-8a54-9442dcad3cd5",
   "metadata": {},
   "outputs": [],
   "source": []
  }
 ],
 "metadata": {
  "kernelspec": {
   "display_name": "Python 3 (ipykernel)",
   "language": "python",
   "name": "python3"
  },
  "language_info": {
   "codemirror_mode": {
    "name": "ipython",
    "version": 3
   },
   "file_extension": ".py",
   "mimetype": "text/x-python",
   "name": "python",
   "nbconvert_exporter": "python",
   "pygments_lexer": "ipython3",
   "version": "3.10.6"
  }
 },
 "nbformat": 4,
 "nbformat_minor": 5
}
