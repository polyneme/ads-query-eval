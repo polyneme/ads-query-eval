{
 "cells": [
  {
   "cell_type": "code",
   "execution_count": 39,
   "id": "c4e37570-8725-474e-bc22-e11cb1b74f69",
   "metadata": {},
   "outputs": [],
   "source": [
    "from collections import defaultdict\n",
    "import gzip\n",
    "import json\n",
    "import os\n",
    "from pathlib import Path\n",
    "from pprint import pprint\n",
    "\n",
    "from elasticsearch import Elasticsearch\n",
    "from elasticsearch.helpers import streaming_bulk\n",
    "from elasticsearch.helpers.errors import BulkIndexError\n",
    "from pymongo import MongoClient\n",
    "import requests\n",
    "from toolz import assoc, dissoc\n",
    "from tqdm.notebook import tqdm"
   ]
  },
  {
   "cell_type": "code",
   "execution_count": null,
   "id": "39c64c93-e435-4adf-ae2a-c65805adcfb7",
   "metadata": {},
   "outputs": [],
   "source": [
    "import gzip\n",
    "with gzip.open('ADS_DOI.tsv.gz') as f:\n",
    "    ads_dois = [line.decode().strip().split(\"\\t\")[-1] for line in f]"
   ]
  },
  {
   "cell_type": "code",
   "execution_count": null,
   "id": "6e19925d-ef64-45d7-9c94-77ae1348db4d",
   "metadata": {},
   "outputs": [],
   "source": [
    "print(f\"{len(ads_dois):,} DOIs in ADS. Example: '{ads_dois[0]}'\")"
   ]
  },
  {
   "cell_type": "code",
   "execution_count": null,
   "id": "c15d5bba-9bb9-49db-9072-f01caa665539",
   "metadata": {},
   "outputs": [],
   "source": [
    "base_uri = \"https://api.openalex.org\"\n",
    "headers = {\"User-Agent\": \"mailto:donny@polyneme.xyz\"}"
   ]
  },
  {
   "cell_type": "code",
   "execution_count": null,
   "id": "e3d95f7b-9188-4924-bcad-856ef049553a",
   "metadata": {},
   "outputs": [],
   "source": [
    "n_total = next(grp for grp in requests.get(\n",
    "    base_uri + \"/works\",\n",
    "    params={\"group_by\": \"has_doi\"},\n",
    "    headers=headers,\n",
    ").json()[\"group_by\"] if grp[\"key\"] == 'true')['count']\n",
    "print(f\"{n_total:,}\", \"DOIs in OpenAlex, so ratio of ADS/OpenAlex totals is\",\n",
    "      f\"{len(ads_dois)/n_total:.1%}.\",)"
   ]
  },
  {
   "cell_type": "markdown",
   "id": "399eac6c-8a9b-4f9f-bb66-c6a665c9285c",
   "metadata": {},
   "source": [
    "## OpenAlex-snapshot coverage of ADS DOIs"
   ]
  },
  {
   "cell_type": "code",
   "execution_count": null,
   "id": "c079cf6d-2dab-4a67-a1fb-43e2f3f294e7",
   "metadata": {},
   "outputs": [],
   "source": [
    "!du -hs /data/openalex-snapshot/"
   ]
  },
  {
   "cell_type": "code",
   "execution_count": null,
   "id": "422f152d-cb55-42a7-bab5-060714e0917b",
   "metadata": {},
   "outputs": [],
   "source": [
    "!head /data/openalex-snapshot/RELEASE_NOTES.txt"
   ]
  },
  {
   "cell_type": "code",
   "execution_count": null,
   "id": "3c15f569-dc2f-467c-b765-fb496ecc4b84",
   "metadata": {},
   "outputs": [],
   "source": [
    "works_parts = sorted(Path(\"/data/openalex-snapshot/data/works/\").glob(\"**/*.gz\"))\n",
    "len(works_parts)"
   ]
  },
  {
   "cell_type": "code",
   "execution_count": null,
   "id": "42eef5ee-dd57-4a25-8835-021a426b7b07",
   "metadata": {},
   "outputs": [],
   "source": [
    "with open(\"/data/openalex-snapshot/data/works/manifest\") as f:\n",
    "    manifest = json.load(f)\n",
    "    record_count = manifest[\"meta\"][\"record_count\"]\n",
    "record_count"
   ]
  },
  {
   "cell_type": "code",
   "execution_count": null,
   "id": "5d703850-f63d-4b5e-bd8c-465e46030171",
   "metadata": {},
   "outputs": [],
   "source": [
    "ads_dois_set = set(ads_dois)"
   ]
  },
  {
   "cell_type": "code",
   "execution_count": null,
   "id": "1b559002-0cf7-4b65-8299-7547291e0e9f",
   "metadata": {},
   "outputs": [],
   "source": [
    "client = MongoClient(host=\"host.docker.internal\")"
   ]
  },
  {
   "cell_type": "code",
   "execution_count": null,
   "id": "e8ba0f09-ea09-4da3-96ee-4d4738e99dbc",
   "metadata": {
    "tags": []
   },
   "outputs": [],
   "source": [
    "docs = []\n",
    "\n",
    "client.openalex.drop_collection(\"works\")\n",
    "\n",
    "pbar = tqdm(total=record_count)\n",
    "for part in works_parts:\n",
    "    with gzip.open(part, 'rb') as f:\n",
    "        for line in f:\n",
    "            doc = json.loads(line)\n",
    "            if isinstance(doc.get(\"doi\"), str) and doc[\"doi\"][16:] in ads_dois_set:\n",
    "                docs.append(doc)\n",
    "            pbar.update(1)\n",
    "            if len(docs) == 10000:\n",
    "                print(\"dumping...\")\n",
    "                client.openalex.works.insert_many(docs)\n",
    "                docs = []"
   ]
  },
  {
   "cell_type": "markdown",
   "id": "9720195f-10ea-4df5-8194-33d0814a1100",
   "metadata": {},
   "source": [
    "# Indexing in ElasticSearch"
   ]
  },
  {
   "cell_type": "code",
   "execution_count": 2,
   "id": "29c20230-ef9d-433f-a48a-f104f63e5748",
   "metadata": {},
   "outputs": [
    {
     "data": {
      "text/plain": [
       "{'name': 'es01',\n",
       " 'cluster_name': 'query-eval-elasticsearch-cluster',\n",
       " 'cluster_uuid': 'stwEBCc6QouWYh3vev-xzA',\n",
       " 'version': {'number': '8.5.2',\n",
       "  'build_flavor': 'default',\n",
       "  'build_type': 'docker',\n",
       "  'build_hash': 'a846182fa16b4ebfcc89aa3c11a11fd5adf3de04',\n",
       "  'build_date': '2022-11-17T18:56:17.538630285Z',\n",
       "  'build_snapshot': False,\n",
       "  'lucene_version': '9.4.1',\n",
       "  'minimum_wire_compatibility_version': '7.17.0',\n",
       "  'minimum_index_compatibility_version': '7.0.0'},\n",
       " 'tagline': 'You Know, for Search'}"
      ]
     },
     "execution_count": 2,
     "metadata": {},
     "output_type": "execute_result"
    }
   ],
   "source": [
    "# Password for the 'elastic' user generated by Elasticsearch\n",
    "ELASTIC_PASSWORD = os.environ.get(\"ELASTIC_PASSWORD\")\n",
    "\n",
    "# Create the client instance\n",
    "client = Elasticsearch(\n",
    "    \"https://es01:9200\",\n",
    "    # docker cp nmdc-elasticsearch_es01_1:/usr/share/elasticsearch/config/certs/ca/ca.crt ./repl/\n",
    "    ca_certs=\"ca.crt\",\n",
    "    basic_auth=(\"elastic\", ELASTIC_PASSWORD)\n",
    ")\n",
    "\n",
    "client.info().body"
   ]
  },
  {
   "cell_type": "code",
   "execution_count": 3,
   "id": "6799fb54-9c00-42ed-8ad9-0543fabd07c3",
   "metadata": {},
   "outputs": [
    {
     "name": "stdout",
     "output_type": "stream",
     "text": [
      "1669757123 21:25:23 query-eval-elasticsearch-cluster green 3 3 28 14 0 0 0 0 - 100.0%\n",
      "\n"
     ]
    }
   ],
   "source": [
    "print(client.cat.health())"
   ]
  },
  {
   "cell_type": "code",
   "execution_count": 4,
   "id": "6f2885ef-8753-426e-920b-40d5f2139874",
   "metadata": {},
   "outputs": [],
   "source": [
    "mdb = MongoClient(host=\"host.docker.internal\")[\"openalex\"]"
   ]
  },
  {
   "cell_type": "code",
   "execution_count": 6,
   "id": "ebd10c32-c02b-42d9-9d53-bb76493b650d",
   "metadata": {},
   "outputs": [
    {
     "data": {
      "text/plain": [
       "ObjectApiResponse({'acknowledged': True, 'shards_acknowledged': True, 'index': 'works'})"
      ]
     },
     "execution_count": 6,
     "metadata": {},
     "output_type": "execute_result"
    }
   ],
   "source": [
    "index_name = 'works'\n",
    "\n",
    "if client.indices.exists(index=index_name):\n",
    "    client.indices.delete(index=index_name)\n",
    "\n",
    "with open(f\"{index_name}.json\") as f:\n",
    "    index_body = json.load(f)[\"template\"]\n",
    "\n",
    "client.indices.create(index=index_name, **index_body)"
   ]
  },
  {
   "cell_type": "code",
   "execution_count": 45,
   "id": "057102d4-f9d9-4d79-9315-52e94579bece",
   "metadata": {},
   "outputs": [],
   "source": [
    "def generate_actions():\n",
    "    for d in mdb.works.find():\n",
    "        action = dict(**dissoc(d, \"_id\"), _id=d[\"id\"], _index=index_name)\n",
    "        aii = {}\n",
    "        action[\"abstract_inverted_index\"] = action[\"abstract_inverted_index\"] or {}\n",
    "        for token, positions in action[\"abstract_inverted_index\"].items():\n",
    "            for p in positions:\n",
    "                aii[p] = token\n",
    "        action[\"abstract_inverted_index\"] = aii\n",
    "        yield action"
   ]
  },
  {
   "cell_type": "code",
   "execution_count": null,
   "id": "1ee2d3c1-f8aa-434c-8aa8-ada3c725094c",
   "metadata": {},
   "outputs": [
    {
     "name": "stdout",
     "output_type": "stream",
     "text": [
      "Indexing documents...\n"
     ]
    },
    {
     "data": {
      "application/vnd.jupyter.widget-view+json": {
       "model_id": "2eac516ac16b4a2ca77021e59113f35a",
       "version_major": 2,
       "version_minor": 0
      },
      "text/plain": [
       "  0%|          | 0/8440000 [00:00<?, ?docs/s]"
      ]
     },
     "metadata": {},
     "output_type": "display_data"
    }
   ],
   "source": [
    "print(\"Indexing documents...\")\n",
    "number_of_docs = mdb.works.estimated_document_count()\n",
    "pbar = tqdm(unit=\"docs\", total=number_of_docs)\n",
    "successes = 0\n",
    "errors = None\n",
    "try:\n",
    "    for ok, action in streaming_bulk(\n",
    "        client=client, index=\"works\", actions=generate_actions(),\n",
    "    ):\n",
    "        pbar.update(1)\n",
    "        successes += ok\n",
    "except BulkIndexError as e:\n",
    "    errors = e\n",
    "print(\"Indexed %d/%d documents\" % (successes, number_of_docs))"
   ]
  },
  {
   "cell_type": "code",
   "execution_count": 42,
   "id": "124c2587-5005-4c6f-9fbc-dfde1a5f9a03",
   "metadata": {},
   "outputs": [
    {
     "name": "stdout",
     "output_type": "stream",
     "text": [
      "{'_id': 'https://openalex.org/W4220743981',\n",
      " '_index': 'works',\n",
      " 'error': {'caused_by': {'reason': 'field name cannot contain only dots',\n",
      "                         'type': 'illegal_argument_exception'},\n",
      "           'reason': 'failed to parse field [abstract_inverted_index] of type '\n",
      "                     '[flattened] in document with id '\n",
      "                     \"'https://openalex.org/W4220743981'. Preview of field's \"\n",
      "                     \"value: 'null'\",\n",
      "           'type': 'mapper_parsing_exception'},\n",
      " 'status': 400}\n",
      "{'_id': 'https://openalex.org/W4220851147',\n",
      " '_index': 'works',\n",
      " 'error': {'caused_by': {'reason': 'field name cannot contain only dots',\n",
      "                         'type': 'illegal_argument_exception'},\n",
      "           'reason': 'failed to parse field [abstract_inverted_index] of type '\n",
      "                     '[flattened] in document with id '\n",
      "                     \"'https://openalex.org/W4220851147'. Preview of field's \"\n",
      "                     \"value: 'null'\",\n",
      "           'type': 'mapper_parsing_exception'},\n",
      " 'status': 400}\n",
      "{'_id': 'https://openalex.org/W4220943517',\n",
      " '_index': 'works',\n",
      " 'error': {'caused_by': {'reason': 'field name cannot contain only dots',\n",
      "                         'type': 'illegal_argument_exception'},\n",
      "           'reason': 'failed to parse field [abstract_inverted_index] of type '\n",
      "                     '[flattened] in document with id '\n",
      "                     \"'https://openalex.org/W4220943517'. Preview of field's \"\n",
      "                     \"value: 'null'\",\n",
      "           'type': 'mapper_parsing_exception'},\n",
      " 'status': 400}\n",
      "{'_id': 'https://openalex.org/W4221074929',\n",
      " '_index': 'works',\n",
      " 'error': {'caused_by': {'reason': 'field name cannot contain only dots',\n",
      "                         'type': 'illegal_argument_exception'},\n",
      "           'reason': 'failed to parse field [abstract_inverted_index] of type '\n",
      "                     '[flattened] in document with id '\n",
      "                     \"'https://openalex.org/W4221074929'. Preview of field's \"\n",
      "                     \"value: 'null'\",\n",
      "           'type': 'mapper_parsing_exception'},\n",
      " 'status': 400}\n",
      "{'_id': 'https://openalex.org/W4223465242',\n",
      " '_index': 'works',\n",
      " 'error': {'caused_by': {'reason': 'field name cannot contain only dots',\n",
      "                         'type': 'illegal_argument_exception'},\n",
      "           'reason': 'failed to parse field [abstract_inverted_index] of type '\n",
      "                     '[flattened] in document with id '\n",
      "                     \"'https://openalex.org/W4223465242'. Preview of field's \"\n",
      "                     \"value: 'null'\",\n",
      "           'type': 'mapper_parsing_exception'},\n",
      " 'status': 400}\n",
      "{'_id': 'https://openalex.org/W4224124822',\n",
      " '_index': 'works',\n",
      " 'error': {'caused_by': {'reason': 'field name cannot contain only dots',\n",
      "                         'type': 'illegal_argument_exception'},\n",
      "           'reason': 'failed to parse field [abstract_inverted_index] of type '\n",
      "                     '[flattened] in document with id '\n",
      "                     \"'https://openalex.org/W4224124822'. Preview of field's \"\n",
      "                     \"value: 'null'\",\n",
      "           'type': 'mapper_parsing_exception'},\n",
      " 'status': 400}\n",
      "{'_id': 'https://openalex.org/W4224270478',\n",
      " '_index': 'works',\n",
      " 'error': {'caused_by': {'reason': 'field name cannot contain only whitespace: '\n",
      "                                   \"['(1..03×10']\",\n",
      "                         'type': 'illegal_argument_exception'},\n",
      "           'reason': 'failed to parse field [abstract_inverted_index] of type '\n",
      "                     '[flattened] in document with id '\n",
      "                     \"'https://openalex.org/W4224270478'. Preview of field's \"\n",
      "                     \"value: 'null'\",\n",
      "           'type': 'mapper_parsing_exception'},\n",
      " 'status': 400}\n",
      "{'_id': 'https://openalex.org/W4224271789',\n",
      " '_index': 'works',\n",
      " 'error': {'caused_by': {'reason': 'field name cannot contain only dots',\n",
      "                         'type': 'illegal_argument_exception'},\n",
      "           'reason': 'failed to parse field [abstract_inverted_index] of type '\n",
      "                     '[flattened] in document with id '\n",
      "                     \"'https://openalex.org/W4224271789'. Preview of field's \"\n",
      "                     \"value: 'null'\",\n",
      "           'type': 'mapper_parsing_exception'},\n",
      " 'status': 400}\n",
      "{'_id': 'https://openalex.org/W4224273040',\n",
      " '_index': 'works',\n",
      " 'error': {'caused_by': {'reason': 'field name cannot contain only dots',\n",
      "                         'type': 'illegal_argument_exception'},\n",
      "           'reason': 'failed to parse field [abstract_inverted_index] of type '\n",
      "                     '[flattened] in document with id '\n",
      "                     \"'https://openalex.org/W4224273040'. Preview of field's \"\n",
      "                     \"value: 'null'\",\n",
      "           'type': 'mapper_parsing_exception'},\n",
      " 'status': 400}\n",
      "{'_id': 'https://openalex.org/W4224482782',\n",
      " '_index': 'works',\n",
      " 'error': {'caused_by': {'reason': 'field name cannot contain only dots',\n",
      "                         'type': 'illegal_argument_exception'},\n",
      "           'reason': 'failed to parse field [abstract_inverted_index] of type '\n",
      "                     '[flattened] in document with id '\n",
      "                     \"'https://openalex.org/W4224482782'. Preview of field's \"\n",
      "                     \"value: 'null'\",\n",
      "           'type': 'mapper_parsing_exception'},\n",
      " 'status': 400}\n",
      "{'_id': 'https://openalex.org/W4224949924',\n",
      " '_index': 'works',\n",
      " 'error': {'caused_by': {'reason': 'field name cannot contain only whitespace: '\n",
      "                                   \"['\\\\cite{2019MNRAS.487..420S},']\",\n",
      "                         'type': 'illegal_argument_exception'},\n",
      "           'reason': 'failed to parse field [abstract_inverted_index] of type '\n",
      "                     '[flattened] in document with id '\n",
      "                     \"'https://openalex.org/W4224949924'. Preview of field's \"\n",
      "                     \"value: 'null'\",\n",
      "           'type': 'mapper_parsing_exception'},\n",
      " 'status': 400}\n",
      "{'_id': 'https://openalex.org/W4224993421',\n",
      " '_index': 'works',\n",
      " 'error': {'caused_by': {'reason': 'field name cannot contain only dots',\n",
      "                         'type': 'illegal_argument_exception'},\n",
      "           'reason': 'failed to parse field [abstract_inverted_index] of type '\n",
      "                     '[flattened] in document with id '\n",
      "                     \"'https://openalex.org/W4224993421'. Preview of field's \"\n",
      "                     \"value: 'null'\",\n",
      "           'type': 'mapper_parsing_exception'},\n",
      " 'status': 400}\n",
      "{'_id': 'https://openalex.org/W4225122283',\n",
      " '_index': 'works',\n",
      " 'error': {'caused_by': {'reason': 'field name cannot contain only dots',\n",
      "                         'type': 'illegal_argument_exception'},\n",
      "           'reason': 'failed to parse field [abstract_inverted_index] of type '\n",
      "                     '[flattened] in document with id '\n",
      "                     \"'https://openalex.org/W4225122283'. Preview of field's \"\n",
      "                     \"value: 'null'\",\n",
      "           'type': 'mapper_parsing_exception'},\n",
      " 'status': 400}\n",
      "{'_id': 'https://openalex.org/W4225135309',\n",
      " '_index': 'works',\n",
      " 'error': {'caused_by': {'reason': 'field name cannot contain only dots',\n",
      "                         'type': 'illegal_argument_exception'},\n",
      "           'reason': 'failed to parse field [abstract_inverted_index] of type '\n",
      "                     '[flattened] in document with id '\n",
      "                     \"'https://openalex.org/W4225135309'. Preview of field's \"\n",
      "                     \"value: 'null'\",\n",
      "           'type': 'mapper_parsing_exception'},\n",
      " 'status': 400}\n",
      "{'_id': 'https://openalex.org/W4225138501',\n",
      " '_index': 'works',\n",
      " 'error': {'caused_by': {'reason': 'field name cannot contain only dots',\n",
      "                         'type': 'illegal_argument_exception'},\n",
      "           'reason': 'failed to parse field [abstract_inverted_index] of type '\n",
      "                     '[flattened] in document with id '\n",
      "                     \"'https://openalex.org/W4225138501'. Preview of field's \"\n",
      "                     \"value: 'null'\",\n",
      "           'type': 'mapper_parsing_exception'},\n",
      " 'status': 400}\n",
      "{'_id': 'https://openalex.org/W4225146478',\n",
      " '_index': 'works',\n",
      " 'error': {'caused_by': {'reason': 'field name cannot contain only dots',\n",
      "                         'type': 'illegal_argument_exception'},\n",
      "           'reason': 'failed to parse field [abstract_inverted_index] of type '\n",
      "                     '[flattened] in document with id '\n",
      "                     \"'https://openalex.org/W4225146478'. Preview of field's \"\n",
      "                     \"value: 'null'\",\n",
      "           'type': 'mapper_parsing_exception'},\n",
      " 'status': 400}\n",
      "{'_id': 'https://openalex.org/W4225148248',\n",
      " '_index': 'works',\n",
      " 'error': {'caused_by': {'reason': 'field name cannot contain only dots',\n",
      "                         'type': 'illegal_argument_exception'},\n",
      "           'reason': 'failed to parse field [abstract_inverted_index] of type '\n",
      "                     '[flattened] in document with id '\n",
      "                     \"'https://openalex.org/W4225148248'. Preview of field's \"\n",
      "                     \"value: 'null'\",\n",
      "           'type': 'mapper_parsing_exception'},\n",
      " 'status': 400}\n",
      "{'_id': 'https://openalex.org/W4225347202',\n",
      " '_index': 'works',\n",
      " 'error': {'caused_by': {'reason': 'field name cannot contain only dots',\n",
      "                         'type': 'illegal_argument_exception'},\n",
      "           'reason': 'failed to parse field [abstract_inverted_index] of type '\n",
      "                     '[flattened] in document with id '\n",
      "                     \"'https://openalex.org/W4225347202'. Preview of field's \"\n",
      "                     \"value: 'null'\",\n",
      "           'type': 'mapper_parsing_exception'},\n",
      " 'status': 400}\n",
      "{'_id': 'https://openalex.org/W4225583257',\n",
      " '_index': 'works',\n",
      " 'error': {'caused_by': {'reason': 'field name cannot contain only dots',\n",
      "                         'type': 'illegal_argument_exception'},\n",
      "           'reason': 'failed to parse field [abstract_inverted_index] of type '\n",
      "                     '[flattened] in document with id '\n",
      "                     \"'https://openalex.org/W4225583257'. Preview of field's \"\n",
      "                     \"value: 'null'\",\n",
      "           'type': 'mapper_parsing_exception'},\n",
      " 'status': 400}\n",
      "{'_id': 'https://openalex.org/W4226412919',\n",
      " '_index': 'works',\n",
      " 'error': {'caused_by': {'reason': 'field name cannot contain only dots',\n",
      "                         'type': 'illegal_argument_exception'},\n",
      "           'reason': 'failed to parse field [abstract_inverted_index] of type '\n",
      "                     '[flattened] in document with id '\n",
      "                     \"'https://openalex.org/W4226412919'. Preview of field's \"\n",
      "                     \"value: 'null'\",\n",
      "           'type': 'mapper_parsing_exception'},\n",
      " 'status': 400}\n"
     ]
    }
   ],
   "source": [
    "for e in errors.errors:\n",
    "    pprint(dissoc(e[\"index\"], \"data\"))"
   ]
  },
  {
   "cell_type": "code",
   "execution_count": null,
   "id": "ea55aea0-8a96-445a-b912-d4c4fbcabb6f",
   "metadata": {},
   "outputs": [],
   "source": []
  }
 ],
 "metadata": {
  "kernelspec": {
   "display_name": "Python 3 (ipykernel)",
   "language": "python",
   "name": "python3"
  },
  "language_info": {
   "codemirror_mode": {
    "name": "ipython",
    "version": 3
   },
   "file_extension": ".py",
   "mimetype": "text/x-python",
   "name": "python",
   "nbconvert_exporter": "python",
   "pygments_lexer": "ipython3",
   "version": "3.10.8"
  }
 },
 "nbformat": 4,
 "nbformat_minor": 5
}
